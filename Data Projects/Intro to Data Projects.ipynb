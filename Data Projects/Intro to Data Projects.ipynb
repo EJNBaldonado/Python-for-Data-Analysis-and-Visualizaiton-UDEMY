{
 "cells": [
  {
   "cell_type": "markdown",
   "id": "f7ab8e94",
   "metadata": {},
   "source": [
    "INTRO TO DATA PROJECTS\n",
    "Congrats! Let's get started.\n",
    "\n",
    "You have the skills you need to analyze large data sets!\n",
    "\n",
    "If you want, go ahead and just go for it with these free public data set resources:\n",
    "\n",
    "http://www.data.gov/\n",
    "\n",
    "http://aws.amazon.com/public-data-sets/\n",
    "\n",
    "http://www.google.com/publicdata/directory"
   ]
  },
  {
   "cell_type": "markdown",
   "id": "002e09b6",
   "metadata": {},
   "source": [
    "Check out data.gov, contains all the data information that the US government has.\n",
    "Feel free to do anything you want to do with that data!"
   ]
  },
  {
   "cell_type": "markdown",
   "id": "921ca885",
   "metadata": {},
   "source": [
    "Search Amazon Web Services - Public Data Sets, also viable to use for data sets!"
   ]
  },
  {
   "cell_type": "markdown",
   "id": "91b688a6",
   "metadata": {},
   "source": [
    "Create GitHub and Kaggle accounts, other great resources!"
   ]
  },
  {
   "cell_type": "code",
   "execution_count": null,
   "id": "31236486",
   "metadata": {},
   "outputs": [],
   "source": []
  }
 ],
 "metadata": {
  "kernelspec": {
   "display_name": "Python 3 (ipykernel)",
   "language": "python",
   "name": "python3"
  },
  "language_info": {
   "codemirror_mode": {
    "name": "ipython",
    "version": 3
   },
   "file_extension": ".py",
   "mimetype": "text/x-python",
   "name": "python",
   "nbconvert_exporter": "python",
   "pygments_lexer": "ipython3",
   "version": "3.9.13"
  }
 },
 "nbformat": 4,
 "nbformat_minor": 5
}
