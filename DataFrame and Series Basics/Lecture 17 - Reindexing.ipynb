{
 "cells": [
  {
   "cell_type": "code",
   "execution_count": 21,
   "id": "e5d5aa35",
   "metadata": {},
   "outputs": [],
   "source": [
    "import numpy as np\n",
    "from pandas import Series,DataFrame\n",
    "import pandas as pd\n",
    "\n",
    "from numpy.random import randn"
   ]
  },
  {
   "cell_type": "code",
   "execution_count": 22,
   "id": "9e205b68",
   "metadata": {},
   "outputs": [
    {
     "data": {
      "text/plain": [
       "A    1\n",
       "B    2\n",
       "C    3\n",
       "D    4\n",
       "dtype: int64"
      ]
     },
     "execution_count": 22,
     "metadata": {},
     "output_type": "execute_result"
    }
   ],
   "source": [
    "ser1 = Series([1,2,3,4],index = ['A','B','C','D'])\n",
    "\n",
    "ser1"
   ]
  },
  {
   "cell_type": "code",
   "execution_count": 23,
   "id": "36f31fda",
   "metadata": {},
   "outputs": [
    {
     "data": {
      "text/plain": [
       "A    1.0\n",
       "B    2.0\n",
       "C    3.0\n",
       "D    4.0\n",
       "E    NaN\n",
       "F    NaN\n",
       "dtype: float64"
      ]
     },
     "execution_count": 23,
     "metadata": {},
     "output_type": "execute_result"
    }
   ],
   "source": [
    "#Reindexing by including new indices, Pandas automatically fills the values w/NaN\n",
    "ser2 = ser1.reindex(['A','B','C','D','E','F'])\n",
    "\n",
    "ser2"
   ]
  },
  {
   "cell_type": "code",
   "execution_count": 24,
   "id": "b5cd36fb",
   "metadata": {},
   "outputs": [
    {
     "data": {
      "text/plain": [
       "A    1.0\n",
       "B    2.0\n",
       "C    3.0\n",
       "D    4.0\n",
       "E    NaN\n",
       "F    NaN\n",
       "G    0.0\n",
       "dtype: float64"
      ]
     },
     "execution_count": 24,
     "metadata": {},
     "output_type": "execute_result"
    }
   ],
   "source": [
    "#Any new indices added will fill with 0 instead of NaN\n",
    "ser2.reindex(['A','B','C','D','E','F','G'],fill_value=0)"
   ]
  },
  {
   "cell_type": "code",
   "execution_count": 25,
   "id": "fe4e074a",
   "metadata": {},
   "outputs": [
    {
     "data": {
      "text/plain": [
       "0        USA\n",
       "5     Mexico\n",
       "10    Canada\n",
       "dtype: object"
      ]
     },
     "execution_count": 25,
     "metadata": {},
     "output_type": "execute_result"
    }
   ],
   "source": [
    "ser3 = Series(['USA','Mexico','Canada'],index=[0,5,10])\n",
    "\n",
    "ser3"
   ]
  },
  {
   "cell_type": "code",
   "execution_count": 26,
   "id": "fc3bb793",
   "metadata": {},
   "outputs": [],
   "source": [
    "ranger = range(15)"
   ]
  },
  {
   "cell_type": "code",
   "execution_count": 27,
   "id": "4f2efd91",
   "metadata": {},
   "outputs": [
    {
     "data": {
      "text/plain": [
       "range(0, 15)"
      ]
     },
     "execution_count": 27,
     "metadata": {},
     "output_type": "execute_result"
    }
   ],
   "source": [
    "#Range just makes a range of (x) points 0 to x-1\n",
    "ranger"
   ]
  },
  {
   "cell_type": "code",
   "execution_count": 28,
   "id": "19336347",
   "metadata": {},
   "outputs": [
    {
     "data": {
      "text/plain": [
       "0        USA\n",
       "1        USA\n",
       "2        USA\n",
       "3        USA\n",
       "4        USA\n",
       "5     Mexico\n",
       "6     Mexico\n",
       "7     Mexico\n",
       "8     Mexico\n",
       "9     Mexico\n",
       "10    Canada\n",
       "11    Canada\n",
       "12    Canada\n",
       "13    Canada\n",
       "14    Canada\n",
       "dtype: object"
      ]
     },
     "execution_count": 28,
     "metadata": {},
     "output_type": "execute_result"
    }
   ],
   "source": [
    "#Forward fill grab previous value and forward fill it until it hits something with a value\n",
    "#0-4 USA, 5-9 Mexico 10-14 Canada \n",
    "ser3.reindex(ranger,method='ffill')\n",
    "#bfill would make 10-14 null and the other canada and mexico"
   ]
  },
  {
   "cell_type": "code",
   "execution_count": 29,
   "id": "2bfb0f0b",
   "metadata": {},
   "outputs": [
    {
     "data": {
      "text/html": [
       "<div>\n",
       "<style scoped>\n",
       "    .dataframe tbody tr th:only-of-type {\n",
       "        vertical-align: middle;\n",
       "    }\n",
       "\n",
       "    .dataframe tbody tr th {\n",
       "        vertical-align: top;\n",
       "    }\n",
       "\n",
       "    .dataframe thead th {\n",
       "        text-align: right;\n",
       "    }\n",
       "</style>\n",
       "<table border=\"1\" class=\"dataframe\">\n",
       "  <thead>\n",
       "    <tr style=\"text-align: right;\">\n",
       "      <th></th>\n",
       "      <th>col1</th>\n",
       "      <th>col2</th>\n",
       "      <th>col3</th>\n",
       "      <th>col4</th>\n",
       "      <th>col5</th>\n",
       "    </tr>\n",
       "  </thead>\n",
       "  <tbody>\n",
       "    <tr>\n",
       "      <th>A</th>\n",
       "      <td>0.287960</td>\n",
       "      <td>-1.732437</td>\n",
       "      <td>0.126780</td>\n",
       "      <td>2.211095</td>\n",
       "      <td>1.512461</td>\n",
       "    </tr>\n",
       "    <tr>\n",
       "      <th>B</th>\n",
       "      <td>0.102974</td>\n",
       "      <td>-0.364964</td>\n",
       "      <td>1.624958</td>\n",
       "      <td>-0.098502</td>\n",
       "      <td>0.432964</td>\n",
       "    </tr>\n",
       "    <tr>\n",
       "      <th>D</th>\n",
       "      <td>-0.663818</td>\n",
       "      <td>0.545729</td>\n",
       "      <td>-0.906970</td>\n",
       "      <td>-1.095879</td>\n",
       "      <td>0.334480</td>\n",
       "    </tr>\n",
       "    <tr>\n",
       "      <th>E</th>\n",
       "      <td>0.167857</td>\n",
       "      <td>-1.730421</td>\n",
       "      <td>0.133699</td>\n",
       "      <td>-0.952502</td>\n",
       "      <td>0.986453</td>\n",
       "    </tr>\n",
       "    <tr>\n",
       "      <th>F</th>\n",
       "      <td>-1.000127</td>\n",
       "      <td>0.196953</td>\n",
       "      <td>-1.355572</td>\n",
       "      <td>-1.454246</td>\n",
       "      <td>-1.426299</td>\n",
       "    </tr>\n",
       "  </tbody>\n",
       "</table>\n",
       "</div>"
      ],
      "text/plain": [
       "       col1      col2      col3      col4      col5\n",
       "A  0.287960 -1.732437  0.126780  2.211095  1.512461\n",
       "B  0.102974 -0.364964  1.624958 -0.098502  0.432964\n",
       "D -0.663818  0.545729 -0.906970 -1.095879  0.334480\n",
       "E  0.167857 -1.730421  0.133699 -0.952502  0.986453\n",
       "F -1.000127  0.196953 -1.355572 -1.454246 -1.426299"
      ]
     },
     "execution_count": 29,
     "metadata": {},
     "output_type": "execute_result"
    }
   ],
   "source": [
    "#Building a DataFrame, call 25 random numbers, make them a 5 by 5 with reshape\n",
    "# use a letter index, and set columns\n",
    "dframe = DataFrame(randn(25).reshape((5,5)), index=['A','B','D','E','F'], \n",
    "                   columns=['col1','col2','col3','col4','col5'])\n",
    "\n",
    "dframe"
   ]
  },
  {
   "cell_type": "code",
   "execution_count": 30,
   "id": "1fa3eb59",
   "metadata": {},
   "outputs": [],
   "source": [
    "#Forgot C, how do you reindex?\n",
    "dframe2 = dframe.reindex(['A','B','C','D','E','F'])"
   ]
  },
  {
   "cell_type": "code",
   "execution_count": 31,
   "id": "bab5df52",
   "metadata": {},
   "outputs": [
    {
     "data": {
      "text/html": [
       "<div>\n",
       "<style scoped>\n",
       "    .dataframe tbody tr th:only-of-type {\n",
       "        vertical-align: middle;\n",
       "    }\n",
       "\n",
       "    .dataframe tbody tr th {\n",
       "        vertical-align: top;\n",
       "    }\n",
       "\n",
       "    .dataframe thead th {\n",
       "        text-align: right;\n",
       "    }\n",
       "</style>\n",
       "<table border=\"1\" class=\"dataframe\">\n",
       "  <thead>\n",
       "    <tr style=\"text-align: right;\">\n",
       "      <th></th>\n",
       "      <th>col1</th>\n",
       "      <th>col2</th>\n",
       "      <th>col3</th>\n",
       "      <th>col4</th>\n",
       "      <th>col5</th>\n",
       "    </tr>\n",
       "  </thead>\n",
       "  <tbody>\n",
       "    <tr>\n",
       "      <th>A</th>\n",
       "      <td>0.287960</td>\n",
       "      <td>-1.732437</td>\n",
       "      <td>0.126780</td>\n",
       "      <td>2.211095</td>\n",
       "      <td>1.512461</td>\n",
       "    </tr>\n",
       "    <tr>\n",
       "      <th>B</th>\n",
       "      <td>0.102974</td>\n",
       "      <td>-0.364964</td>\n",
       "      <td>1.624958</td>\n",
       "      <td>-0.098502</td>\n",
       "      <td>0.432964</td>\n",
       "    </tr>\n",
       "    <tr>\n",
       "      <th>C</th>\n",
       "      <td>NaN</td>\n",
       "      <td>NaN</td>\n",
       "      <td>NaN</td>\n",
       "      <td>NaN</td>\n",
       "      <td>NaN</td>\n",
       "    </tr>\n",
       "    <tr>\n",
       "      <th>D</th>\n",
       "      <td>-0.663818</td>\n",
       "      <td>0.545729</td>\n",
       "      <td>-0.906970</td>\n",
       "      <td>-1.095879</td>\n",
       "      <td>0.334480</td>\n",
       "    </tr>\n",
       "    <tr>\n",
       "      <th>E</th>\n",
       "      <td>0.167857</td>\n",
       "      <td>-1.730421</td>\n",
       "      <td>0.133699</td>\n",
       "      <td>-0.952502</td>\n",
       "      <td>0.986453</td>\n",
       "    </tr>\n",
       "    <tr>\n",
       "      <th>F</th>\n",
       "      <td>-1.000127</td>\n",
       "      <td>0.196953</td>\n",
       "      <td>-1.355572</td>\n",
       "      <td>-1.454246</td>\n",
       "      <td>-1.426299</td>\n",
       "    </tr>\n",
       "  </tbody>\n",
       "</table>\n",
       "</div>"
      ],
      "text/plain": [
       "       col1      col2      col3      col4      col5\n",
       "A  0.287960 -1.732437  0.126780  2.211095  1.512461\n",
       "B  0.102974 -0.364964  1.624958 -0.098502  0.432964\n",
       "C       NaN       NaN       NaN       NaN       NaN\n",
       "D -0.663818  0.545729 -0.906970 -1.095879  0.334480\n",
       "E  0.167857 -1.730421  0.133699 -0.952502  0.986453\n",
       "F -1.000127  0.196953 -1.355572 -1.454246 -1.426299"
      ]
     },
     "execution_count": 31,
     "metadata": {},
     "output_type": "execute_result"
    }
   ],
   "source": [
    "#Note: Null values are Placed in the new index!\n",
    "dframe2"
   ]
  },
  {
   "cell_type": "code",
   "execution_count": 32,
   "id": "8016f78b",
   "metadata": {},
   "outputs": [],
   "source": [
    "new_columns = ['col1','col2','col3','col4','col5','col6']"
   ]
  },
  {
   "cell_type": "code",
   "execution_count": 33,
   "id": "b8ef7016",
   "metadata": {},
   "outputs": [
    {
     "data": {
      "text/html": [
       "<div>\n",
       "<style scoped>\n",
       "    .dataframe tbody tr th:only-of-type {\n",
       "        vertical-align: middle;\n",
       "    }\n",
       "\n",
       "    .dataframe tbody tr th {\n",
       "        vertical-align: top;\n",
       "    }\n",
       "\n",
       "    .dataframe thead th {\n",
       "        text-align: right;\n",
       "    }\n",
       "</style>\n",
       "<table border=\"1\" class=\"dataframe\">\n",
       "  <thead>\n",
       "    <tr style=\"text-align: right;\">\n",
       "      <th></th>\n",
       "      <th>col1</th>\n",
       "      <th>col2</th>\n",
       "      <th>col3</th>\n",
       "      <th>col4</th>\n",
       "      <th>col5</th>\n",
       "      <th>col6</th>\n",
       "    </tr>\n",
       "  </thead>\n",
       "  <tbody>\n",
       "    <tr>\n",
       "      <th>A</th>\n",
       "      <td>0.287960</td>\n",
       "      <td>-1.732437</td>\n",
       "      <td>0.126780</td>\n",
       "      <td>2.211095</td>\n",
       "      <td>1.512461</td>\n",
       "      <td>NaN</td>\n",
       "    </tr>\n",
       "    <tr>\n",
       "      <th>B</th>\n",
       "      <td>0.102974</td>\n",
       "      <td>-0.364964</td>\n",
       "      <td>1.624958</td>\n",
       "      <td>-0.098502</td>\n",
       "      <td>0.432964</td>\n",
       "      <td>NaN</td>\n",
       "    </tr>\n",
       "    <tr>\n",
       "      <th>C</th>\n",
       "      <td>NaN</td>\n",
       "      <td>NaN</td>\n",
       "      <td>NaN</td>\n",
       "      <td>NaN</td>\n",
       "      <td>NaN</td>\n",
       "      <td>NaN</td>\n",
       "    </tr>\n",
       "    <tr>\n",
       "      <th>D</th>\n",
       "      <td>-0.663818</td>\n",
       "      <td>0.545729</td>\n",
       "      <td>-0.906970</td>\n",
       "      <td>-1.095879</td>\n",
       "      <td>0.334480</td>\n",
       "      <td>NaN</td>\n",
       "    </tr>\n",
       "    <tr>\n",
       "      <th>E</th>\n",
       "      <td>0.167857</td>\n",
       "      <td>-1.730421</td>\n",
       "      <td>0.133699</td>\n",
       "      <td>-0.952502</td>\n",
       "      <td>0.986453</td>\n",
       "      <td>NaN</td>\n",
       "    </tr>\n",
       "    <tr>\n",
       "      <th>F</th>\n",
       "      <td>-1.000127</td>\n",
       "      <td>0.196953</td>\n",
       "      <td>-1.355572</td>\n",
       "      <td>-1.454246</td>\n",
       "      <td>-1.426299</td>\n",
       "      <td>NaN</td>\n",
       "    </tr>\n",
       "  </tbody>\n",
       "</table>\n",
       "</div>"
      ],
      "text/plain": [
       "       col1      col2      col3      col4      col5  col6\n",
       "A  0.287960 -1.732437  0.126780  2.211095  1.512461   NaN\n",
       "B  0.102974 -0.364964  1.624958 -0.098502  0.432964   NaN\n",
       "C       NaN       NaN       NaN       NaN       NaN   NaN\n",
       "D -0.663818  0.545729 -0.906970 -1.095879  0.334480   NaN\n",
       "E  0.167857 -1.730421  0.133699 -0.952502  0.986453   NaN\n",
       "F -1.000127  0.196953 -1.355572 -1.454246 -1.426299   NaN"
      ]
     },
     "execution_count": 33,
     "metadata": {},
     "output_type": "execute_result"
    }
   ],
   "source": [
    "#Must call columns in reindex to reindex columns, notice new column values NaN\n",
    "dframe2.reindex(columns=new_columns)"
   ]
  },
  {
   "cell_type": "code",
   "execution_count": 34,
   "id": "7e9857ca",
   "metadata": {},
   "outputs": [
    {
     "data": {
      "text/html": [
       "<div>\n",
       "<style scoped>\n",
       "    .dataframe tbody tr th:only-of-type {\n",
       "        vertical-align: middle;\n",
       "    }\n",
       "\n",
       "    .dataframe tbody tr th {\n",
       "        vertical-align: top;\n",
       "    }\n",
       "\n",
       "    .dataframe thead th {\n",
       "        text-align: right;\n",
       "    }\n",
       "</style>\n",
       "<table border=\"1\" class=\"dataframe\">\n",
       "  <thead>\n",
       "    <tr style=\"text-align: right;\">\n",
       "      <th></th>\n",
       "      <th>col1</th>\n",
       "      <th>col2</th>\n",
       "      <th>col3</th>\n",
       "      <th>col4</th>\n",
       "      <th>col5</th>\n",
       "    </tr>\n",
       "  </thead>\n",
       "  <tbody>\n",
       "    <tr>\n",
       "      <th>A</th>\n",
       "      <td>0.287960</td>\n",
       "      <td>-1.732437</td>\n",
       "      <td>0.126780</td>\n",
       "      <td>2.211095</td>\n",
       "      <td>1.512461</td>\n",
       "    </tr>\n",
       "    <tr>\n",
       "      <th>B</th>\n",
       "      <td>0.102974</td>\n",
       "      <td>-0.364964</td>\n",
       "      <td>1.624958</td>\n",
       "      <td>-0.098502</td>\n",
       "      <td>0.432964</td>\n",
       "    </tr>\n",
       "    <tr>\n",
       "      <th>D</th>\n",
       "      <td>-0.663818</td>\n",
       "      <td>0.545729</td>\n",
       "      <td>-0.906970</td>\n",
       "      <td>-1.095879</td>\n",
       "      <td>0.334480</td>\n",
       "    </tr>\n",
       "    <tr>\n",
       "      <th>E</th>\n",
       "      <td>0.167857</td>\n",
       "      <td>-1.730421</td>\n",
       "      <td>0.133699</td>\n",
       "      <td>-0.952502</td>\n",
       "      <td>0.986453</td>\n",
       "    </tr>\n",
       "    <tr>\n",
       "      <th>F</th>\n",
       "      <td>-1.000127</td>\n",
       "      <td>0.196953</td>\n",
       "      <td>-1.355572</td>\n",
       "      <td>-1.454246</td>\n",
       "      <td>-1.426299</td>\n",
       "    </tr>\n",
       "  </tbody>\n",
       "</table>\n",
       "</div>"
      ],
      "text/plain": [
       "       col1      col2      col3      col4      col5\n",
       "A  0.287960 -1.732437  0.126780  2.211095  1.512461\n",
       "B  0.102974 -0.364964  1.624958 -0.098502  0.432964\n",
       "D -0.663818  0.545729 -0.906970 -1.095879  0.334480\n",
       "E  0.167857 -1.730421  0.133699 -0.952502  0.986453\n",
       "F -1.000127  0.196953 -1.355572 -1.454246 -1.426299"
      ]
     },
     "execution_count": 34,
     "metadata": {},
     "output_type": "execute_result"
    }
   ],
   "source": [
    "dframe"
   ]
  },
  {
   "cell_type": "code",
   "execution_count": 39,
   "id": "ac2e0995",
   "metadata": {},
   "outputs": [
    {
     "data": {
      "text/html": [
       "<div>\n",
       "<style scoped>\n",
       "    .dataframe tbody tr th:only-of-type {\n",
       "        vertical-align: middle;\n",
       "    }\n",
       "\n",
       "    .dataframe tbody tr th {\n",
       "        vertical-align: top;\n",
       "    }\n",
       "\n",
       "    .dataframe thead th {\n",
       "        text-align: right;\n",
       "    }\n",
       "</style>\n",
       "<table border=\"1\" class=\"dataframe\">\n",
       "  <thead>\n",
       "    <tr style=\"text-align: right;\">\n",
       "      <th></th>\n",
       "      <th>col1</th>\n",
       "      <th>col2</th>\n",
       "      <th>col3</th>\n",
       "      <th>col4</th>\n",
       "      <th>col5</th>\n",
       "      <th>col6</th>\n",
       "    </tr>\n",
       "  </thead>\n",
       "  <tbody>\n",
       "    <tr>\n",
       "      <th>A</th>\n",
       "      <td>0.287960</td>\n",
       "      <td>-1.732437</td>\n",
       "      <td>0.126780</td>\n",
       "      <td>2.211095</td>\n",
       "      <td>1.512461</td>\n",
       "      <td>NaN</td>\n",
       "    </tr>\n",
       "    <tr>\n",
       "      <th>B</th>\n",
       "      <td>0.102974</td>\n",
       "      <td>-0.364964</td>\n",
       "      <td>1.624958</td>\n",
       "      <td>-0.098502</td>\n",
       "      <td>0.432964</td>\n",
       "      <td>NaN</td>\n",
       "    </tr>\n",
       "    <tr>\n",
       "      <th>C</th>\n",
       "      <td>NaN</td>\n",
       "      <td>NaN</td>\n",
       "      <td>NaN</td>\n",
       "      <td>NaN</td>\n",
       "      <td>NaN</td>\n",
       "      <td>NaN</td>\n",
       "    </tr>\n",
       "    <tr>\n",
       "      <th>D</th>\n",
       "      <td>-0.663818</td>\n",
       "      <td>0.545729</td>\n",
       "      <td>-0.906970</td>\n",
       "      <td>-1.095879</td>\n",
       "      <td>0.334480</td>\n",
       "      <td>NaN</td>\n",
       "    </tr>\n",
       "    <tr>\n",
       "      <th>E</th>\n",
       "      <td>0.167857</td>\n",
       "      <td>-1.730421</td>\n",
       "      <td>0.133699</td>\n",
       "      <td>-0.952502</td>\n",
       "      <td>0.986453</td>\n",
       "      <td>NaN</td>\n",
       "    </tr>\n",
       "    <tr>\n",
       "      <th>F</th>\n",
       "      <td>-1.000127</td>\n",
       "      <td>0.196953</td>\n",
       "      <td>-1.355572</td>\n",
       "      <td>-1.454246</td>\n",
       "      <td>-1.426299</td>\n",
       "      <td>NaN</td>\n",
       "    </tr>\n",
       "  </tbody>\n",
       "</table>\n",
       "</div>"
      ],
      "text/plain": [
       "       col1      col2      col3      col4      col5  col6\n",
       "A  0.287960 -1.732437  0.126780  2.211095  1.512461   NaN\n",
       "B  0.102974 -0.364964  1.624958 -0.098502  0.432964   NaN\n",
       "C       NaN       NaN       NaN       NaN       NaN   NaN\n",
       "D -0.663818  0.545729 -0.906970 -1.095879  0.334480   NaN\n",
       "E  0.167857 -1.730421  0.133699 -0.952502  0.986453   NaN\n",
       "F -1.000127  0.196953 -1.355572 -1.454246 -1.426299   NaN"
      ]
     },
     "execution_count": 39,
     "metadata": {},
     "output_type": "execute_result"
    }
   ],
   "source": [
    "#Note can no longer use ix to quickly reindex, deprecated! Use reindex\n",
    "dframe.reindex(['A','B','C','D','E','F'],columns=new_columns)"
   ]
  },
  {
   "cell_type": "code",
   "execution_count": null,
   "id": "977ae929",
   "metadata": {},
   "outputs": [],
   "source": []
  }
 ],
 "metadata": {
  "kernelspec": {
   "display_name": "Python 3 (ipykernel)",
   "language": "python",
   "name": "python3"
  },
  "language_info": {
   "codemirror_mode": {
    "name": "ipython",
    "version": 3
   },
   "file_extension": ".py",
   "mimetype": "text/x-python",
   "name": "python",
   "nbconvert_exporter": "python",
   "pygments_lexer": "ipython3",
   "version": "3.9.13"
  }
 },
 "nbformat": 4,
 "nbformat_minor": 5
}
