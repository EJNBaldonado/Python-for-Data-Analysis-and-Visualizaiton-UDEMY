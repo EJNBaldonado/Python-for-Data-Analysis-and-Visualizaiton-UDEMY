{
 "cells": [
  {
   "cell_type": "code",
   "execution_count": 6,
   "id": "ba9cb8d7",
   "metadata": {},
   "outputs": [],
   "source": [
    "import numpy as np\n",
    "from pandas import Series,DataFrame\n",
    "\n",
    "import pandas as pd"
   ]
  },
  {
   "cell_type": "code",
   "execution_count": 7,
   "id": "e7e47903",
   "metadata": {},
   "outputs": [
    {
     "data": {
      "text/plain": [
       "C    0\n",
       "A    1\n",
       "B    2\n",
       "dtype: int64"
      ]
     },
     "execution_count": 7,
     "metadata": {},
     "output_type": "execute_result"
    }
   ],
   "source": [
    "ser1 = Series(range(3), index = ['C','A','B'])\n",
    "\n",
    "ser1"
   ]
  },
  {
   "cell_type": "code",
   "execution_count": 8,
   "id": "87c00d1a",
   "metadata": {},
   "outputs": [
    {
     "data": {
      "text/plain": [
       "A    1\n",
       "B    2\n",
       "C    0\n",
       "dtype: int64"
      ]
     },
     "execution_count": 8,
     "metadata": {},
     "output_type": "execute_result"
    }
   ],
   "source": [
    "#Sort series by index\n",
    "ser1.sort_index()"
   ]
  },
  {
   "cell_type": "code",
   "execution_count": 10,
   "id": "ab65565e",
   "metadata": {},
   "outputs": [
    {
     "data": {
      "text/plain": [
       "C    0\n",
       "A    1\n",
       "B    2\n",
       "dtype: int64"
      ]
     },
     "execution_count": 10,
     "metadata": {},
     "output_type": "execute_result"
    }
   ],
   "source": [
    "#Sort series by value NOTE: order is deprecated use sort_values()!\n",
    "ser1.sort_values()"
   ]
  },
  {
   "cell_type": "code",
   "execution_count": 11,
   "id": "622695d4",
   "metadata": {},
   "outputs": [],
   "source": [
    "from numpy.random import randn"
   ]
  },
  {
   "cell_type": "code",
   "execution_count": 12,
   "id": "6649dd93",
   "metadata": {},
   "outputs": [
    {
     "data": {
      "text/plain": [
       "0    0.569558\n",
       "1   -1.408570\n",
       "2    0.905783\n",
       "3    0.675235\n",
       "4   -1.043668\n",
       "5    1.070638\n",
       "6    0.254369\n",
       "7   -1.170539\n",
       "8   -0.108298\n",
       "9   -0.740987\n",
       "dtype: float64"
      ]
     },
     "execution_count": 12,
     "metadata": {},
     "output_type": "execute_result"
    }
   ],
   "source": [
    "ser2 = Series(randn(10))\n",
    "\n",
    "ser2"
   ]
  },
  {
   "cell_type": "code",
   "execution_count": 18,
   "id": "4a93a347",
   "metadata": {},
   "outputs": [],
   "source": [
    "#Sort is deprecated! Assign ser2 with the sorted series, notice the indexes stayed with the correct value\n",
    "ser2 = ser2.sort_values()"
   ]
  },
  {
   "cell_type": "code",
   "execution_count": 19,
   "id": "0cacde13",
   "metadata": {},
   "outputs": [
    {
     "data": {
      "text/plain": [
       "1   -1.408570\n",
       "7   -1.170539\n",
       "4   -1.043668\n",
       "9   -0.740987\n",
       "8   -0.108298\n",
       "6    0.254369\n",
       "0    0.569558\n",
       "3    0.675235\n",
       "2    0.905783\n",
       "5    1.070638\n",
       "dtype: float64"
      ]
     },
     "execution_count": 19,
     "metadata": {},
     "output_type": "execute_result"
    }
   ],
   "source": [
    "ser2"
   ]
  },
  {
   "cell_type": "code",
   "execution_count": 20,
   "id": "ead124df",
   "metadata": {},
   "outputs": [
    {
     "data": {
      "text/plain": [
       "1     1.0\n",
       "7     2.0\n",
       "4     3.0\n",
       "9     4.0\n",
       "8     5.0\n",
       "6     6.0\n",
       "0     7.0\n",
       "3     8.0\n",
       "2     9.0\n",
       "5    10.0\n",
       "dtype: float64"
      ]
     },
     "execution_count": 20,
     "metadata": {},
     "output_type": "execute_result"
    }
   ],
   "source": [
    "#Know the ranking of each value in the series\n",
    "ser2.rank()"
   ]
  },
  {
   "cell_type": "code",
   "execution_count": 21,
   "id": "c15dffe6",
   "metadata": {},
   "outputs": [],
   "source": [
    "ser3 = Series(randn(10))"
   ]
  },
  {
   "cell_type": "code",
   "execution_count": 22,
   "id": "f401d1ce",
   "metadata": {},
   "outputs": [
    {
     "data": {
      "text/plain": [
       "0   -0.882367\n",
       "1    0.840457\n",
       "2   -0.504952\n",
       "3    0.119699\n",
       "4   -1.380461\n",
       "5    0.568335\n",
       "6    1.635984\n",
       "7    0.840912\n",
       "8    1.438808\n",
       "9    2.582712\n",
       "dtype: float64"
      ]
     },
     "execution_count": 22,
     "metadata": {},
     "output_type": "execute_result"
    }
   ],
   "source": [
    "ser3"
   ]
  },
  {
   "cell_type": "code",
   "execution_count": 23,
   "id": "e2fad26d",
   "metadata": {},
   "outputs": [
    {
     "data": {
      "text/plain": [
       "0     2.0\n",
       "1     6.0\n",
       "2     3.0\n",
       "3     4.0\n",
       "4     1.0\n",
       "5     5.0\n",
       "6     9.0\n",
       "7     7.0\n",
       "8     8.0\n",
       "9    10.0\n",
       "dtype: float64"
      ]
     },
     "execution_count": 23,
     "metadata": {},
     "output_type": "execute_result"
    }
   ],
   "source": [
    "#Index in perfect order, ranking is out of order\n",
    "ser3.rank()"
   ]
  },
  {
   "cell_type": "code",
   "execution_count": 26,
   "id": "aaf9459e",
   "metadata": {},
   "outputs": [
    {
     "data": {
      "text/plain": [
       "4     1.0\n",
       "0     2.0\n",
       "2     3.0\n",
       "3     4.0\n",
       "5     5.0\n",
       "1     6.0\n",
       "7     7.0\n",
       "8     8.0\n",
       "6     9.0\n",
       "9    10.0\n",
       "dtype: float64"
      ]
     },
     "execution_count": 26,
     "metadata": {},
     "output_type": "execute_result"
    }
   ],
   "source": [
    "ser3 = ser3.sort_values()\n",
    "ser3.rank()"
   ]
  },
  {
   "cell_type": "code",
   "execution_count": 27,
   "id": "cd15ba1c",
   "metadata": {},
   "outputs": [
    {
     "data": {
      "text/plain": [
       "4   -1.380461\n",
       "0   -0.882367\n",
       "2   -0.504952\n",
       "3    0.119699\n",
       "5    0.568335\n",
       "1    0.840457\n",
       "7    0.840912\n",
       "8    1.438808\n",
       "6    1.635984\n",
       "9    2.582712\n",
       "dtype: float64"
      ]
     },
     "execution_count": 27,
     "metadata": {},
     "output_type": "execute_result"
    }
   ],
   "source": [
    "ser3"
   ]
  },
  {
   "cell_type": "code",
   "execution_count": null,
   "id": "87adeca8",
   "metadata": {},
   "outputs": [],
   "source": []
  },
  {
   "cell_type": "code",
   "execution_count": null,
   "id": "48f8fabe",
   "metadata": {},
   "outputs": [],
   "source": []
  }
 ],
 "metadata": {
  "kernelspec": {
   "display_name": "Python 3 (ipykernel)",
   "language": "python",
   "name": "python3"
  },
  "language_info": {
   "codemirror_mode": {
    "name": "ipython",
    "version": 3
   },
   "file_extension": ".py",
   "mimetype": "text/x-python",
   "name": "python",
   "nbconvert_exporter": "python",
   "pygments_lexer": "ipython3",
   "version": "3.9.13"
  }
 },
 "nbformat": 4,
 "nbformat_minor": 5
}
