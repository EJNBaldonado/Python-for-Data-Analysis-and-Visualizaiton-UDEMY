{
 "cells": [
  {
   "cell_type": "markdown",
   "id": "35046d69",
   "metadata": {},
   "source": [
    "# Introduction to Machine Learning\n",
    "\n",
    " In this course we will be focusing on very practical hands on applications of machine learning using the [SciKit Learn](http://scikit-learn.org/stable/) module for Python.\n",
    " Install it using either *pip install scikit-learn* or *conda install scikit-learn* depending on your installation.\n",
    " \n",
    " You can treat each lecture almost like a micro-project. In each lecture we'll get a brief overview of the mathematics behind the model we'll work with and then dive into the code.\n",
    " \n",
    " ------------\n",
    "\n",
    "### What you can expect to learn from the machine learning section of this course:\n",
    " \n",
    "I've geared this sectionof the course with one main goal in mind: you having a basic understanding of the mathematics behind some machine learning techniques and more importantly: being able to use the scikit learn library with Python to implement those techniques. \n",
    " \n",
    "### Once you're done with this course you should feel comfortable putting SciKit Learn on your resume.\n",
    "\n",
    "Machine Learning is a very broad topic and we relistically won't be able to cover every thing, especially the higher level mathematics of some methods, but you should have enough material presented here to feel confident in your ability to look at a dataset, choose a model, and then know how to apply SciKit Learn to analyze your data.\n",
    " \n",
    "There are many free online resources to further expand your knowledge on Machine Learning. I've listed a few of the ones I personally recommend here:\n",
    "\n",
    "### Free Additional Online Resource for Machine Learning:\n",
    " \n",
    "1.) SciKit Learn's own Documentation is fantastic! They have their own basic tutorial:\n",
    "     [SciKit Learn Tutorial](http://www.astroml.org/sklearn_tutorial/general_concepts.html)\n",
    "    \n",
    "2.) Nice Introduction Overview from [Toptal](http://www.toptal.com/machine-learning/machine-learning-theory-an-introductory-primer)\n",
    " \n",
    "3.) This [free online book](http://robotics.stanford.edu/people/nilsson/MLBOOK.pdf) by Stanford professor Nils J. Nilsson.\n",
    " \n",
    "3.) Andrew Ng's Machine Learning Class\n",
    " \n",
    "[notes](http://cs229.stanford.edu/materials.html)\n",
    " \n",
    "[Coursera Video](https://www.coursera.org/learn/machine-learning)\n",
    " \n",
    "Andrew Ng's class delves very nicely into the mathematics of a lot of machine learning. They are also available on youtube for free. Note: He does not use the scikit learn library or the Python language. \n",
    " \n",
    "### How I suggest you proceed throughout the machine learning section of this course:\n",
    " \n",
    "1.) Watch the lecture videos here on Udemy and learn about the overview of the mathematics and how to implemenent SciKit Learn.\n",
    "\n",
    "2.) If you're still interested in the deep mathematics- go ahead and look up the corresponding sections in the above resources."
   ]
  },
  {
   "cell_type": "code",
   "execution_count": 1,
   "id": "5d36d3e4",
   "metadata": {},
   "outputs": [
    {
     "name": "stdout",
     "output_type": "stream",
     "text": [
      "Requirement already satisfied: scikit-learn in c:\\users\\eugen\\anaconda3\\lib\\site-packages (1.0.2)\n",
      "Requirement already satisfied: joblib>=0.11 in c:\\users\\eugen\\anaconda3\\lib\\site-packages (from scikit-learn) (1.1.0)\n",
      "Requirement already satisfied: scipy>=1.1.0 in c:\\users\\eugen\\anaconda3\\lib\\site-packages (from scikit-learn) (1.9.1)\n",
      "Requirement already satisfied: threadpoolctl>=2.0.0 in c:\\users\\eugen\\anaconda3\\lib\\site-packages (from scikit-learn) (2.2.0)\n",
      "Requirement already satisfied: numpy>=1.14.6 in c:\\users\\eugen\\anaconda3\\lib\\site-packages (from scikit-learn) (1.21.5)\n",
      "Note: you may need to restart the kernel to use updated packages.\n"
     ]
    }
   ],
   "source": [
    "pip install scikit-learn"
   ]
  },
  {
   "cell_type": "code",
   "execution_count": null,
   "id": "aab4ab43",
   "metadata": {},
   "outputs": [],
   "source": []
  }
 ],
 "metadata": {
  "kernelspec": {
   "display_name": "Python 3 (ipykernel)",
   "language": "python",
   "name": "python3"
  },
  "language_info": {
   "codemirror_mode": {
    "name": "ipython",
    "version": 3
   },
   "file_extension": ".py",
   "mimetype": "text/x-python",
   "name": "python",
   "nbconvert_exporter": "python",
   "pygments_lexer": "ipython3",
   "version": "3.9.13"
  }
 },
 "nbformat": 4,
 "nbformat_minor": 5
}
