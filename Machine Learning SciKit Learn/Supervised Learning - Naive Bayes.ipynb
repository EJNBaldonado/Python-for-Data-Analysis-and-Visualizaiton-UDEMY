{
 "cells": [
  {
   "cell_type": "markdown",
   "id": "f88d3d22",
   "metadata": {},
   "source": [
    "# Naive Bayes Classifiers\n",
    "\n",
    "In this lecture we will learn how to use Naive Bayes Classifier to perform a Multi Class Classification on a data set we are already familiar with: the Iris Data Set. This Lecture will consist of 7 main parts:\n",
    " \n",
    "     Part 1: Note on Notation and Math Terms\n",
    "     Part 2: Bayes' Theorem\n",
    "     Part 3: Introduction to Naive Bayes\n",
    "     Part 4: Naive Bayes Classifier Mathematics Overview\n",
    "     Part 5: Constructing a classifier from the probability model\n",
    "     Part 6: Gaussian Naive Bayes\n",
    "     Part 7: Gaussian Naive Bayes with SciKit Learn\n",
    "    "
   ]
  },
  {
   "cell_type": "markdown",
   "id": "ef5ca6ad",
   "metadata": {},
   "source": [
    "#### Part 1: Note on Notation and Math Terms\n",
    "\n",
    "There are a few more advanced notations and amthematical terms used during the explanation of naive Bayes Classification.\n",
    "You should be familiar with the following:\n",
    "\n",
    "[Product of Sequence](http://en.wikipedia.org/wiki/Product_%28mathematics%29#Product_of_sequences)\n",
    "\n",
    "The product of a sequence of terms can be written with the product symbol, which derives from the capital letter Π (Pi) in the Greek alphabet. The meaning of this notation is given by:\n",
    "  $$\\prod_{i=1}^4 i = 1\\cdot 2\\cdot 3\\cdot 4,  $$\n",
    "that is\n",
    "  $$\\prod_{i=1}^4 i = 24. $$\n",
    "  \n",
    "[Arg Max](http://en.wikipedia.org/wiki/Arg_max)\n",
    " \n",
    "In mathematics, the argument of the maximum (abbreviated arg max or argmax) is the set of points of the given argument for which the given function attains its maximum value. In contrast to global maximums, which refer to a function's largest outputs, the arg max refers to the inputs which create those maximum outputs.\n",
    " \n",
    "The arg max is defined by\n",
    "\n",
    " $$\\operatorname*{arg\\,max}_x  f(x) := \\{x \\mid \\forall y : f(y) \\le f(x)\\}$$\n",
    " \n",
    "In other words, it is the set of points x for which f(x) attains its largest value. This set may be empty, have one element, or have multiple elements. For example, if f(x) is 1−|x|, then it attains its maximum value of 1 at x = 0 and only there, so\n",
    " \n",
    " $$\\operatorname*{arg\\,max}_x (1-|x|) = \\{0\\}$$"
   ]
  },
  {
   "cell_type": "markdown",
   "id": "ba08fade",
   "metadata": {},
   "source": [
    "### Part 2: Bayes' Theorem\n",
    "You will usually see Bayes Theorem displayed in one of two ways:\n",
    " \n",
    "$$ P(A|B) = \\frac{P(B|A)P(A)}{P(B)} $$\n",
    " \n",
    "$$ P(A|B) = \\frac{P(B|A)P(A)}{P(B|A)P(A) + P(B|not A)P(not A)}$$\n",
    "\n",
    "Other great resources for more on Bayes Theorem:\n",
    " \n",
    " 1.) [Simple Explanation using Legos](https://www.countbayesie.com/blog/2015/2/18/bayes-theorem-with-lego)\n",
    " \n",
    " 2.) [Wikipedia](http://en.wikipedia.org/wiki/Bayes%27_theorem)\n",
    " \n",
    " 3.) [Stat Trek](http://stattrek.com/probability/bayes-theorem.aspx)"
   ]
  },
  {
   "cell_type": "markdown",
   "id": "fb9560fa",
   "metadata": {},
   "source": [
    "### Part 3: Introduction to Naive Bayes\n",
    " \n",
    "Naive Bayes is probably one of the practical machine learning algorithms. Despite its name, it is actually performs very well considering its classification performance. It proves to be quite robust to irrelevant features, which it  ignores. It learns and predicts very fast and it does not require lots of storage. So, why is it then called naive?\n",
    " \n",
    "The naive was added to the account for one assumption that is required for Bayes to work optimally: all features must be independent of each other. In reality, this is usually not the case, however, it still returns very good accuracy in practice even when the independent assumption does not hold.\n",
    " \n",
    "Naive Bayes classifiers have worked quite well in many real-world situations, famously document classification and spam filtering. We will be working with the Iris Flower data set in this lecture.\n",
    "\n",
    "### Part 4: Naive Bayes Classifier Mathematics Overview\n",
    " \n",
    " Naive Bayes methods are a set of supervised learning algorithms based on applying Bayes’ theorem with the “naive” assumption of independence between every pair of features. Given a class variable y and a dependent feature vector x<sub>1</sub> through x<sub>n</sub>, Bayes’ theorem states the following relationship:\n",
    " \n",
    " $$P(y \\mid x_1, \\dots, x_n) = \\frac{P(y) P(x_1, \\dots x_n \\mid y)}\n",
    "                                  {P(x_1, \\dots, x_n)}$$\n",
    "                                  \n",
    " Using the naive independence assumption that\n",
    " $$P(x_i | y, x_1, \\dots, x_{i-1}, x_{i+1}, \\dots, x_n) = P(x_i | y)$$\n",
    " \n",
    " for all i, this relationship is simplified to:\n",
    " \n",
    " $$P(y \\mid x_1, \\dots, x_n) = \\frac{P(y) \\prod_{i=1}^{n} P(x_i \\mid y)}\n",
    "                                  {P(x_1, \\dots, x_n)}$$\n",
    "                                \n",
    " We now have a relationship between the target and the features using Bayes Theorem along with a Naive Assumption that all features are independent."
   ]
  },
  {
   "cell_type": "markdown",
   "id": "50a0122a",
   "metadata": {},
   "source": [
    "### Part 5: Constructing a classifier from the probability model\n",
    " \n",
    "So far we have derived the independent feature model, the Naive Bayes probability model. The Naive Bayes classifier combines this model with a *decision rule*, this decision rule will decide which hypothesis is most probable, in our example case this will be which class of flower is most probable.\n",
    " \n",
    "Picking the hypothesis that is most probable  is known as the maximum a posteriori or MAP decision rule. The corresponding classifier, a Bayes classifier, is the function that assigns a class label to y as follows:\n",
    "\n",
    "Since P(x<sub>1</sub>, ..., x<sub>n</sub>) is constant given the input, we can use the following classification rule:\n",
    " $$P(y \\mid x_1, \\dots, x_n) \\propto P(y) \\prod_{i=1}^{n} P(x_i \\mid y)$$\n",
    " \n",
    " $$\\Downarrow$$\n",
    " \n",
    " $$\\hat{y} = \\arg\\max_y P(y) \\prod_{i=1}^{n} P(x_i \\mid y),$$\n",
    " \n",
    " and we can use Maximum A Posteriori (MAP) estimation to estimate P(y) and P(x<sub>i</sub> | y); the former is then the relative frequency of class y in the training set.\n",
    " \n",
    " There are different naive Bayes classifiers that differ mainly by the assumptions they make regarding the distribution of P(x<sub>i</sub> | y).\n",
    " \n",
    "# Resources to understand Naive Bayes\n",
    " \n",
    "4.) [Andrew Ng's Class Notes](http://cs229.stanford.edu/notes/cs229-notes2.pdf)\n",
    " \n",
    "5.) [Andrew Ng's Video Lecture on Naive Bayes](https://www.youtube.com/watch?v=z5UQyCESW64)\n",
    " \n",
    "6.) [UC Berkeley Lecture by Pieter Abbeel](https://www.youtube.com/watch?v=DNvwfNEiKvw)"
   ]
  },
  {
   "cell_type": "markdown",
   "id": "650132f6",
   "metadata": {},
   "source": [
    "### Part 6: Gaussian Naive Bayes\n",
    " \n",
    "When dealing with continuous data, a typical assumption is that the continuous values associated with each class are distributed according to a Gaussian distribution. Go back to the normal distribution lecture to review the formulas for the Gaussian/Normal Distribution.\n",
    " \n",
    "For example of using the Gaussian Distribution, suppose the training data contain a continuous attribute, x. We first segment the data by the class, and then compute the mean and variance of x in each class. Let  μ<sub>c</sub> be the mean of the values in x associated with class c, and let  σ<sup>2</sup><sub>c</sub> be the variance of the values in x associated with class c. Then, the probability distribution of some value given a class, p(x=v|c), can be computed by plugging v into the equation for a Normal distribution parameterized by μ<sub>c</sub> and  σ<sup>2</sup><sub>c</sub>. That is:\n",
    " \n",
    " $$p(x=v|c)=\\frac{1}{\\sqrt{2\\pi\\sigma^2_c}}\\,e^{ -\\frac{(v-\\mu_c)^2}{2\\sigma^2_c} }$$\n",
    " \n",
    "\n",
    "The key to Naive Bayes is making the (rather large) assumption that the presences (or absences) of\n",
    "each data feature are independent of one another, conditional on a data having a certain label."
   ]
  },
  {
   "cell_type": "markdown",
   "id": "6500f7b5",
   "metadata": {},
   "source": [
    "### Part 7: Gaussian Naive Bayes with SciKit Learn"
   ]
  },
  {
   "cell_type": "code",
   "execution_count": 2,
   "id": "59ee950d",
   "metadata": {},
   "outputs": [],
   "source": [
    "import pandas as pd\n",
    "import numpy as np\n",
    "\n",
    "import matplotlib.pyplot as plt\n",
    "import seaborn as sns\n",
    "\n",
    "# Gaussian Naive Bayes\n",
    "from sklearn import datasets\n",
    "from sklearn import metrics\n",
    "from sklearn.naive_bayes import GaussianNB"
   ]
  },
  {
   "cell_type": "markdown",
   "id": "bb17c7c2",
   "metadata": {},
   "source": [
    "#### Using the Naive Bayes Method to seperate this data set into multiple classes.\n",
    " "
   ]
  },
  {
   "cell_type": "code",
   "execution_count": null,
   "id": "e52d05bc",
   "metadata": {},
   "outputs": [],
   "source": [
    "# Load the iris dataset\n",
    "iris = datasets.load_iris()\n",
    "\n",
    "# Grab features (X) and target (Y)\n",
    "X =  iris.data\n",
    "Y = iris.target\n",
    "\n",
    "# Show the built in data description\n",
    "print(iris.DESCR)"
   ]
  },
  {
   "cell_type": "code",
   "execution_count": 6,
   "id": "3c047b11",
   "metadata": {},
   "outputs": [],
   "source": [
    "# Create a naive bayes model\n",
    "model = GaussianNB()"
   ]
  },
  {
   "cell_type": "code",
   "execution_count": 7,
   "id": "313c7ba5",
   "metadata": {},
   "outputs": [],
   "source": [
    "# Import train_test_split\n",
    "from sklearn.model_selection import train_test_split"
   ]
  },
  {
   "cell_type": "code",
   "execution_count": 8,
   "id": "f26ea710",
   "metadata": {},
   "outputs": [],
   "source": [
    "# Split the data into training and testing sets\n",
    "X_train, X_test, Y_train, Y_test = train_test_split(X,Y)"
   ]
  },
  {
   "cell_type": "code",
   "execution_count": 9,
   "id": "fab66bee",
   "metadata": {},
   "outputs": [
    {
     "data": {
      "text/plain": [
       "GaussianNB()"
      ]
     },
     "execution_count": 9,
     "metadata": {},
     "output_type": "execute_result"
    }
   ],
   "source": [
    "# Now we fit the model to our training data\n",
    "model.fit(X_train, Y_train)"
   ]
  },
  {
   "cell_type": "code",
   "execution_count": 10,
   "id": "62f4ae16",
   "metadata": {},
   "outputs": [],
   "source": [
    "# Now predict the outcomes from the X testing set\n",
    "y_pred = model.predict(X_test)"
   ]
  },
  {
   "cell_type": "code",
   "execution_count": 12,
   "id": "32f98e83",
   "metadata": {},
   "outputs": [
    {
     "name": "stdout",
     "output_type": "stream",
     "text": [
      "0.9736842105263158\n"
     ]
    }
   ],
   "source": [
    "# Test the accuracy and print out the comparison from pred, to Y_test values\n",
    "print(metrics.accuracy_score(y_pred, Y_test))"
   ]
  },
  {
   "cell_type": "markdown",
   "id": "c4b9154d",
   "metadata": {},
   "source": [
    "About a 97.4% accuracy score, pretty good accuracy considering the naive assumption that all those features were independent of each other!"
   ]
  },
  {
   "cell_type": "markdown",
   "id": "1563578c",
   "metadata": {},
   "source": [
    "### Part 8: More Resources\n",
    "\n",
    "There are plenty more resources and types of Naive Bayes Classifiers, For more resources on Naive Bayes, check out the following links:\n",
    "\n",
    "1.) [SciKit Learn Documentation](http://scikit-learn.org/stable/modules/naive_bayes.html)\n",
    " \n",
    "2.) [Naive Bayes with NLTK](http://slendermeans.org/ml4h-ch3.html)\n",
    " \n",
    "3.) [Wikipedia on Naive Bayes](http://en.wikipedia.org/wiki/Naive_Bayes_classifier)"
   ]
  },
  {
   "cell_type": "code",
   "execution_count": null,
   "id": "195baf5e",
   "metadata": {},
   "outputs": [],
   "source": []
  }
 ],
 "metadata": {
  "kernelspec": {
   "display_name": "Python 3 (ipykernel)",
   "language": "python",
   "name": "python3"
  },
  "language_info": {
   "codemirror_mode": {
    "name": "ipython",
    "version": 3
   },
   "file_extension": ".py",
   "mimetype": "text/x-python",
   "name": "python",
   "nbconvert_exporter": "python",
   "pygments_lexer": "ipython3",
   "version": "3.9.13"
  }
 },
 "nbformat": 4,
 "nbformat_minor": 5
}
