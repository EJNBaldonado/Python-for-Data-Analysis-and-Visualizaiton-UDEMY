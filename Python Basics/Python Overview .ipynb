{
 "cells": [
  {
   "cell_type": "code",
   "execution_count": 1,
   "id": "860b0f6b",
   "metadata": {},
   "outputs": [
    {
     "data": {
      "text/plain": [
       "6"
      ]
     },
     "execution_count": 1,
     "metadata": {},
     "output_type": "execute_result"
    }
   ],
   "source": [
    "# Python crash course\n",
    "\n",
    "# Calculator\n",
    "3+3"
   ]
  },
  {
   "cell_type": "code",
   "execution_count": 3,
   "id": "191f1214",
   "metadata": {},
   "outputs": [
    {
     "data": {
      "text/plain": [
       "5.0"
      ]
     },
     "execution_count": 3,
     "metadata": {},
     "output_type": "execute_result"
    }
   ],
   "source": [
    "(50 - 5*6)/4"
   ]
  },
  {
   "cell_type": "code",
   "execution_count": 4,
   "id": "4310973e",
   "metadata": {},
   "outputs": [
    {
     "data": {
      "text/plain": [
       "0.8333333333333334"
      ]
     },
     "execution_count": 4,
     "metadata": {},
     "output_type": "execute_result"
    }
   ],
   "source": [
    "5/6"
   ]
  },
  {
   "cell_type": "code",
   "execution_count": 6,
   "id": "ed710a0b",
   "metadata": {},
   "outputs": [
    {
     "data": {
      "text/plain": [
       "6.0"
      ]
     },
     "execution_count": 6,
     "metadata": {},
     "output_type": "execute_result"
    }
   ],
   "source": [
    "import math\n",
    "math.sqrt(36)"
   ]
  },
  {
   "cell_type": "code",
   "execution_count": 45,
   "id": "8c5c450d",
   "metadata": {},
   "outputs": [
    {
     "data": {
      "text/plain": [
       "36.0"
      ]
     },
     "execution_count": 45,
     "metadata": {},
     "output_type": "execute_result"
    }
   ],
   "source": [
    "from math import sqrt\n",
    "# ** power\n",
    "sqrt(36)**2"
   ]
  },
  {
   "cell_type": "code",
   "execution_count": 8,
   "id": "2a9f60a0",
   "metadata": {},
   "outputs": [
    {
     "data": {
      "text/plain": [
       "10"
      ]
     },
     "execution_count": 8,
     "metadata": {},
     "output_type": "execute_result"
    }
   ],
   "source": [
    "# Defining variables\n",
    "volume = 10\n",
    "volume"
   ]
  },
  {
   "cell_type": "code",
   "execution_count": 10,
   "id": "de98259c",
   "metadata": {},
   "outputs": [
    {
     "data": {
      "text/plain": [
       "50"
      ]
     },
     "execution_count": 10,
     "metadata": {},
     "output_type": "execute_result"
    }
   ],
   "source": [
    "red = 5\n",
    "red * volume"
   ]
  },
  {
   "cell_type": "code",
   "execution_count": 11,
   "id": "e9419072",
   "metadata": {},
   "outputs": [
    {
     "data": {
      "text/plain": [
       "'Hello world'"
      ]
     },
     "execution_count": 11,
     "metadata": {},
     "output_type": "execute_result"
    }
   ],
   "source": [
    "# Strings\n",
    "'Hello world'"
   ]
  },
  {
   "cell_type": "code",
   "execution_count": 12,
   "id": "0cc320db",
   "metadata": {},
   "outputs": [
    {
     "data": {
      "text/plain": [
       "'Hello world'"
      ]
     },
     "execution_count": 12,
     "metadata": {},
     "output_type": "execute_result"
    }
   ],
   "source": [
    "\"Hello world\""
   ]
  },
  {
   "cell_type": "code",
   "execution_count": 13,
   "id": "8ffce81c",
   "metadata": {},
   "outputs": [
    {
     "name": "stdout",
     "output_type": "stream",
     "text": [
      "Hello world!\n"
     ]
    }
   ],
   "source": [
    "print('Hello world!')"
   ]
  },
  {
   "cell_type": "code",
   "execution_count": 14,
   "id": "510f9927",
   "metadata": {},
   "outputs": [
    {
     "data": {
      "text/plain": [
       "' She said \"Hello\" '"
      ]
     },
     "execution_count": 14,
     "metadata": {},
     "output_type": "execute_result"
    }
   ],
   "source": [
    "# Difference between double quotes and single quotes\n",
    "# Can now use \"\" in a string\n",
    "' She said \"Hello\" '"
   ]
  },
  {
   "cell_type": "code",
   "execution_count": 15,
   "id": "3aa6dddf",
   "metadata": {},
   "outputs": [
    {
     "data": {
      "text/plain": [
       "\" She said 'Hello' \""
      ]
     },
     "execution_count": 15,
     "metadata": {},
     "output_type": "execute_result"
    }
   ],
   "source": [
    "\" She said 'Hello' \""
   ]
  },
  {
   "cell_type": "code",
   "execution_count": 17,
   "id": "8b83f7bb",
   "metadata": {},
   "outputs": [
    {
     "data": {
      "text/plain": [
       "'hello'"
      ]
     },
     "execution_count": 17,
     "metadata": {},
     "output_type": "execute_result"
    }
   ],
   "source": [
    "phrase = 'hello'\n",
    "phrase"
   ]
  },
  {
   "cell_type": "code",
   "execution_count": 18,
   "id": "f5ad5f7b",
   "metadata": {},
   "outputs": [
    {
     "name": "stdout",
     "output_type": "stream",
     "text": [
      "hello\n"
     ]
    }
   ],
   "source": [
    "print(phrase)"
   ]
  },
  {
   "cell_type": "code",
   "execution_count": 19,
   "id": "d9c6a389",
   "metadata": {},
   "outputs": [
    {
     "name": "stdout",
     "output_type": "stream",
     "text": [
      "My volume is 10\n"
     ]
    }
   ],
   "source": [
    "print('My volume is', volume)"
   ]
  },
  {
   "cell_type": "code",
   "execution_count": 22,
   "id": "54d2b240",
   "metadata": {},
   "outputs": [],
   "source": [
    "phrase = 'hello' + ' ' + 'world'"
   ]
  },
  {
   "cell_type": "code",
   "execution_count": 23,
   "id": "bf95fdac",
   "metadata": {},
   "outputs": [
    {
     "name": "stdout",
     "output_type": "stream",
     "text": [
      "hello world\n"
     ]
    }
   ],
   "source": [
    "print(phrase)"
   ]
  },
  {
   "cell_type": "code",
   "execution_count": 31,
   "id": "461e475b",
   "metadata": {},
   "outputs": [],
   "source": [
    "# Lists \n",
    "cities = ['NYC', 'LA', 'SF']"
   ]
  },
  {
   "cell_type": "code",
   "execution_count": 25,
   "id": "07f155cb",
   "metadata": {},
   "outputs": [
    {
     "data": {
      "text/plain": [
       "['NYC', 'LA', 'SF']"
      ]
     },
     "execution_count": 25,
     "metadata": {},
     "output_type": "execute_result"
    }
   ],
   "source": [
    "cities"
   ]
  },
  {
   "cell_type": "code",
   "execution_count": 26,
   "id": "3f248144",
   "metadata": {},
   "outputs": [
    {
     "data": {
      "text/plain": [
       "'NYC'"
      ]
     },
     "execution_count": 26,
     "metadata": {},
     "output_type": "execute_result"
    }
   ],
   "source": [
    "# Access specific objects in list using index (starts at 0)\n",
    "cities[0]"
   ]
  },
  {
   "cell_type": "code",
   "execution_count": 27,
   "id": "c5dc5b57",
   "metadata": {},
   "outputs": [
    {
     "data": {
      "text/plain": [
       "'LA'"
      ]
     },
     "execution_count": 27,
     "metadata": {},
     "output_type": "execute_result"
    }
   ],
   "source": [
    "cities[1]"
   ]
  },
  {
   "cell_type": "code",
   "execution_count": 28,
   "id": "ffb2ba4a",
   "metadata": {},
   "outputs": [
    {
     "data": {
      "text/plain": [
       "'SF'"
      ]
     },
     "execution_count": 28,
     "metadata": {},
     "output_type": "execute_result"
    }
   ],
   "source": [
    "# Negative values in list means starting from the back\n",
    "cities[-1]"
   ]
  },
  {
   "cell_type": "code",
   "execution_count": 32,
   "id": "ba881d00",
   "metadata": {},
   "outputs": [
    {
     "data": {
      "text/plain": [
       "['NYC', 'LA', 'SF', 'CHI']"
      ]
     },
     "execution_count": 32,
     "metadata": {},
     "output_type": "execute_result"
    }
   ],
   "source": [
    "# Add to list\n",
    "cities.append('CHI')\n",
    "cities"
   ]
  },
  {
   "cell_type": "code",
   "execution_count": 37,
   "id": "e700bb77",
   "metadata": {},
   "outputs": [
    {
     "data": {
      "text/plain": [
       "array([0, 1, 2, 3, 4, 5, 6, 7, 8, 9])"
      ]
     },
     "execution_count": 37,
     "metadata": {},
     "output_type": "execute_result"
    }
   ],
   "source": [
    "# Range command to make a list of numbers, remember indexing starts at 0\n",
    "import numpy as np\n",
    "x = np.arange(10)\n",
    "x"
   ]
  },
  {
   "cell_type": "code",
   "execution_count": 42,
   "id": "54eb61b9",
   "metadata": {},
   "outputs": [
    {
     "data": {
      "text/plain": [
       "array([ 0,  2,  4,  6,  8, 10, 12, 14, 16, 18])"
      ]
     },
     "execution_count": 42,
     "metadata": {},
     "output_type": "execute_result"
    }
   ],
   "source": [
    "x = np.arange(0,20,2)\n",
    "x"
   ]
  },
  {
   "cell_type": "code",
   "execution_count": 43,
   "id": "c46690d1",
   "metadata": {},
   "outputs": [
    {
     "data": {
      "text/plain": [
       "['hello', 76, 'today', 4, 3]"
      ]
     },
     "execution_count": 43,
     "metadata": {},
     "output_type": "execute_result"
    }
   ],
   "source": [
    "# Lists don't need to have same datatype\n",
    "random_list = ['hello', 76, 'today', 4, 3]\n",
    "random_list"
   ]
  },
  {
   "cell_type": "code",
   "execution_count": 44,
   "id": "10dddc63",
   "metadata": {},
   "outputs": [
    {
     "data": {
      "text/plain": [
       "5"
      ]
     },
     "execution_count": 44,
     "metadata": {},
     "output_type": "execute_result"
    }
   ],
   "source": [
    "# Length of lists\n",
    "len(random_list)"
   ]
  },
  {
   "cell_type": "code",
   "execution_count": 47,
   "id": "8f75193c",
   "metadata": {},
   "outputs": [
    {
     "name": "stdout",
     "output_type": "stream",
     "text": [
      "NYC\n",
      "LA\n",
      "SF\n",
      "CHI\n"
     ]
    }
   ],
   "source": [
    "# For loops\n",
    "for city in cities: \n",
    "    print(city)"
   ]
  },
  {
   "cell_type": "code",
   "execution_count": 48,
   "id": "c20c06ce",
   "metadata": {},
   "outputs": [
    {
     "name": "stdout",
     "output_type": "stream",
     "text": [
      "I love NYC\n",
      "I love LA\n",
      "I love SF\n",
      "I love CHI\n"
     ]
    }
   ],
   "source": [
    "for city in cities:\n",
    "    phrase = \"I love \" + city\n",
    "    print(phrase)"
   ]
  },
  {
   "cell_type": "code",
   "execution_count": 50,
   "id": "4a4b343e",
   "metadata": {},
   "outputs": [
    {
     "name": "stdout",
     "output_type": "stream",
     "text": [
      "The Inverse of  1 is,  1.0\n",
      "The Inverse of  2 is,  0.5\n",
      "The Inverse of  3 is,  0.3333333333333333\n",
      "The Inverse of  4 is,  0.25\n",
      "The Inverse of  5 is,  0.2\n",
      "The Inverse of  6 is,  0.16666666666666666\n",
      "The Inverse of  7 is,  0.14285714285714285\n",
      "The Inverse of  8 is,  0.125\n",
      "The Inverse of  9 is,  0.1111111111111111\n"
     ]
    }
   ],
   "source": [
    "for n in range(1,10):\n",
    "    print('The Inverse of ', n , 'is, ', 1/n)"
   ]
  },
  {
   "cell_type": "code",
   "execution_count": 52,
   "id": "df9b4a84",
   "metadata": {},
   "outputs": [
    {
     "name": "stdout",
     "output_type": "stream",
     "text": [
      "H\n",
      "e\n",
      "l\n",
      "l\n",
      "o\n"
     ]
    }
   ],
   "source": [
    "for letter in 'Hello':\n",
    "    print(letter)"
   ]
  },
  {
   "cell_type": "code",
   "execution_count": 57,
   "id": "c4710203",
   "metadata": {},
   "outputs": [
    {
     "name": "stdout",
     "output_type": "stream",
     "text": [
      "Party\n"
     ]
    }
   ],
   "source": [
    "# Boolean logic \n",
    "\n",
    "if city == 'NY':\n",
    "    print('Party')\n",
    "else:\n",
    "    print('Work')"
   ]
  },
  {
   "cell_type": "code",
   "execution_count": 55,
   "id": "d534ac68",
   "metadata": {},
   "outputs": [
    {
     "data": {
      "text/plain": [
       "'CHI'"
      ]
     },
     "execution_count": 55,
     "metadata": {},
     "output_type": "execute_result"
    }
   ],
   "source": [
    "city"
   ]
  },
  {
   "cell_type": "code",
   "execution_count": 56,
   "id": "8d063abc",
   "metadata": {},
   "outputs": [],
   "source": [
    "city = 'NY'"
   ]
  },
  {
   "cell_type": "code",
   "execution_count": 58,
   "id": "1a4c194b",
   "metadata": {},
   "outputs": [
    {
     "data": {
      "text/plain": [
       "False"
      ]
     },
     "execution_count": 58,
     "metadata": {},
     "output_type": "execute_result"
    }
   ],
   "source": [
    "1 == 2"
   ]
  },
  {
   "cell_type": "code",
   "execution_count": 59,
   "id": "9c753e2c",
   "metadata": {},
   "outputs": [
    {
     "data": {
      "text/plain": [
       "True"
      ]
     },
     "execution_count": 59,
     "metadata": {},
     "output_type": "execute_result"
    }
   ],
   "source": [
    "2 == 2"
   ]
  },
  {
   "cell_type": "code",
   "execution_count": 60,
   "id": "39b9862f",
   "metadata": {},
   "outputs": [
    {
     "data": {
      "text/plain": [
       "False"
      ]
     },
     "execution_count": 60,
     "metadata": {},
     "output_type": "execute_result"
    }
   ],
   "source": [
    "3 > 4"
   ]
  },
  {
   "cell_type": "code",
   "execution_count": 61,
   "id": "7c5ed4e8",
   "metadata": {},
   "outputs": [
    {
     "data": {
      "text/plain": [
       "True"
      ]
     },
     "execution_count": 61,
     "metadata": {},
     "output_type": "execute_result"
    }
   ],
   "source": [
    "4 < 5"
   ]
  },
  {
   "cell_type": "code",
   "execution_count": 62,
   "id": "ed7e7d93",
   "metadata": {},
   "outputs": [
    {
     "data": {
      "text/plain": [
       "True"
      ]
     },
     "execution_count": 62,
     "metadata": {},
     "output_type": "execute_result"
    }
   ],
   "source": [
    "1 <= 2"
   ]
  },
  {
   "cell_type": "code",
   "execution_count": 63,
   "id": "5c6f6efa",
   "metadata": {},
   "outputs": [
    {
     "data": {
      "text/plain": [
       "True"
      ]
     },
     "execution_count": 63,
     "metadata": {},
     "output_type": "execute_result"
    }
   ],
   "source": [
    "1 != 2"
   ]
  },
  {
   "cell_type": "code",
   "execution_count": 64,
   "id": "3a688780",
   "metadata": {},
   "outputs": [
    {
     "data": {
      "text/plain": [
       "False"
      ]
     },
     "execution_count": 64,
     "metadata": {},
     "output_type": "execute_result"
    }
   ],
   "source": [
    "1 >= 2"
   ]
  },
  {
   "cell_type": "code",
   "execution_count": 65,
   "id": "16473780",
   "metadata": {},
   "outputs": [
    {
     "data": {
      "text/plain": [
       "False"
      ]
     },
     "execution_count": 65,
     "metadata": {},
     "output_type": "execute_result"
    }
   ],
   "source": [
    "[1,1,1]==[1,1]"
   ]
  },
  {
   "cell_type": "code",
   "execution_count": 66,
   "id": "2639b901",
   "metadata": {},
   "outputs": [
    {
     "data": {
      "text/plain": [
       "True"
      ]
     },
     "execution_count": 66,
     "metadata": {},
     "output_type": "execute_result"
    }
   ],
   "source": [
    "[1,1,1]==[1,1,1]"
   ]
  },
  {
   "cell_type": "code",
   "execution_count": 68,
   "id": "80959349",
   "metadata": {},
   "outputs": [
    {
     "data": {
      "text/plain": [
       "'NYC'"
      ]
     },
     "execution_count": 68,
     "metadata": {},
     "output_type": "execute_result"
    }
   ],
   "source": [
    "city = cities[0]\n",
    "city"
   ]
  },
  {
   "cell_type": "code",
   "execution_count": 72,
   "id": "36e6e4dd",
   "metadata": {},
   "outputs": [
    {
     "name": "stdout",
     "output_type": "stream",
     "text": [
      "Where am I?\n"
     ]
    }
   ],
   "source": [
    "# Multiple if with elif\n",
    "if city == 'NY':\n",
    "    print('Party')\n",
    "elif city == 'LA':\n",
    "    print('Its hot here')\n",
    "else:\n",
    "    print(\"Where am I?\")"
   ]
  },
  {
   "cell_type": "code",
   "execution_count": 70,
   "id": "3ea396b3",
   "metadata": {},
   "outputs": [],
   "source": [
    "# CAN HIGHLIGHT TEXT AND TAB TO SPACE IT ALL OUT\n",
    "for city in cities:\n",
    "    if city == 'NY':\n",
    "    print('Party')\n",
    "    elif city == 'LA':\n",
    "        print('Its hot here')\n",
    "    else:\n",
    "        print(\"Where am I?\")"
   ]
  },
  {
   "cell_type": "code",
   "execution_count": 74,
   "id": "823d721f",
   "metadata": {},
   "outputs": [],
   "source": [
    "# TWO MORE DATA STRUCTURES \n",
    "# Tuples, sequence object like list or string, construct it by grouping sequence of object with commas \n",
    "t = (1, 2, 3)\n",
    "# Tuples are IMMUTABLE, can't append to them or change elements of them"
   ]
  },
  {
   "cell_type": "code",
   "execution_count": 75,
   "id": "7126c932",
   "metadata": {},
   "outputs": [],
   "source": [
    "# Dictionary\n",
    "# Index in a dictionary is a key, corresponding value is the value\n",
    "my_dict = {'Joe': 22, 'Mike': 12}"
   ]
  },
  {
   "cell_type": "code",
   "execution_count": 76,
   "id": "bbeb3395",
   "metadata": {},
   "outputs": [
    {
     "data": {
      "text/plain": [
       "22"
      ]
     },
     "execution_count": 76,
     "metadata": {},
     "output_type": "execute_result"
    }
   ],
   "source": [
    "my_dict['Joe']"
   ]
  },
  {
   "cell_type": "code",
   "execution_count": 77,
   "id": "52fb5a54",
   "metadata": {},
   "outputs": [
    {
     "data": {
      "text/plain": [
       "2"
      ]
     },
     "execution_count": 77,
     "metadata": {},
     "output_type": "execute_result"
    }
   ],
   "source": [
    "len(my_dict)"
   ]
  },
  {
   "cell_type": "code",
   "execution_count": 78,
   "id": "6dce18b4",
   "metadata": {},
   "outputs": [],
   "source": [
    "# Functions, ''' to add comments '''\n",
    "def adder(x, y):\n",
    "    '''\n",
    "    This function adds two values\n",
    "    '''\n",
    "    return x + y"
   ]
  },
  {
   "cell_type": "code",
   "execution_count": 79,
   "id": "3c33d5eb",
   "metadata": {},
   "outputs": [
    {
     "data": {
      "text/plain": [
       "5"
      ]
     },
     "execution_count": 79,
     "metadata": {},
     "output_type": "execute_result"
    }
   ],
   "source": [
    "adder(1, 4)"
   ]
  },
  {
   "cell_type": "code",
   "execution_count": null,
   "id": "1d33f6c4",
   "metadata": {},
   "outputs": [],
   "source": []
  }
 ],
 "metadata": {
  "kernelspec": {
   "display_name": "Python 3 (ipykernel)",
   "language": "python",
   "name": "python3"
  },
  "language_info": {
   "codemirror_mode": {
    "name": "ipython",
    "version": 3
   },
   "file_extension": ".py",
   "mimetype": "text/x-python",
   "name": "python",
   "nbconvert_exporter": "python",
   "pygments_lexer": "ipython3",
   "version": "3.9.13"
  }
 },
 "nbformat": 4,
 "nbformat_minor": 5
}
