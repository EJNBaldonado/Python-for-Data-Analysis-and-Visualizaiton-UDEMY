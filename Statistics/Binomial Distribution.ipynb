{
 "cells": [
  {
   "cell_type": "markdown",
   "id": "ffb3dc79",
   "metadata": {},
   "source": [
    "### Binomial is a specific type of a discrete probability distribution.\n",
    "\n",
    "Let's see an example question first, and then learn about the binomial distribution.\n",
    "\n",
    " Example 1: Two players are playing basketball, player A and player B. Player A takes an average of 11 shots per game, and \n",
    " has an average success rate of 72%. Player B takes an average of 15 shots per game, but has an average success rate of 48%.\n",
    " \n",
    " Question 1: What's the probability that Player A makes 6 shots in an average game?\n",
    " \n",
    " Question 2: What's the probability that Player B makes 6 shots in an average game?\n",
    "\n",
    " We can classify this as a binomial experiment if the following conditions are met:\n",
    "     \n",
    "     1.) The process consists of a sequence of n trials.\n",
    "     2.) Only two exclusive outcomes are possible for each trial (A success and a failure)\n",
    "     3.) If the probability of a success is 'p' then the probability of failure is q=1-p\n",
    "     4.) The trials are independent.\n",
    "     \n",
    " \n",
    "\n",
    " The formula for a Binomial Distribution Probability Mass Function turns out to be:    \n",
    "  $$Pr(X=k)=C(n,k)p^k (1-p)^{n-k}$$\n",
    "\n",
    " Where n= number of trials,k=number of successes,p=probability of success,1-p=probability of failure (often written as q=1-p).\n",
    "\n",
    " This means that to get exactly 'k' successes in 'n' trials, we want exactly 'k' successes: $$p^k$$ \n",
    " and we want 'n-k' failures:$$(1-p)^{n-k}$$\n",
    " Then finally, there are $$C(n,k)$$ ways of putting 'k' successes in 'n' trials.\n",
    " So we multiply all these together to get the probability of exactly that many success and failures in those n trials!\n",
    "\n",
    " --------------------------------------------------------------------------------------------------------------------------------\n",
    "\n",
    " Quick note, C(n,k) refers to the number of possible combinations of N things taken k at a time.\n",
    " \n",
    " This is also equal to: $$C(n,k) =  \\frac{n!}{k!(n-k)!}$$\n",
    "\n",
    " ### So let's try out the example problem!\n"
   ]
  },
  {
   "cell_type": "code",
   "execution_count": 4,
   "id": "bdca8e42",
   "metadata": {},
   "outputs": [
    {
     "name": "stdout",
     "output_type": "stream",
     "text": [
      " The probability of player A making 6 shots in an average game is 11.1% \n",
      " \n",
      "\n",
      " The probability of player B making 6 shots in an average game is 17.0% \n"
     ]
    }
   ],
   "source": [
    "# Set up player A\n",
    "\n",
    "# Probability of success for A\n",
    "p_A = .72\n",
    "# Number of shots for A\n",
    "n_A = 11\n",
    "\n",
    "# Make 6 shots\n",
    "k = 6\n",
    "\n",
    "# Now import scipy for combination\n",
    "import scipy.special as sc\n",
    "\n",
    "# Set up C(n,k)\n",
    "comb_A = sc.comb(n_A,k)\n",
    "\n",
    "# Now put it together to get the probability!\n",
    "answer_A = comb_A * (p_A**k) * ((1-p_A)**(n_A-k))\n",
    "\n",
    "# Put the answer in percentage form!\n",
    "answer_A = 100*answer_A\n",
    "\n",
    "\n",
    "# Quickly repeat all steps for Player B\n",
    "p_B = .48\n",
    "n_B = 15\n",
    "comb_B = sc.comb(n_B,k)\n",
    "answer_B = 100 * comb_B * (p_B**k) * ((1-p_B)**(n_B-k))\n",
    "\n",
    "\n",
    "#Print Answers\n",
    "print(' The probability of player A making 6 shots in an average game is %1.1f%% ' %answer_A)\n",
    "print(' \\n')\n",
    "print(' The probability of player B making 6 shots in an average game is %1.1f%% ' %answer_B)"
   ]
  },
  {
   "cell_type": "markdown",
   "id": "481f8146",
   "metadata": {},
   "source": [
    "So now we know that even though player B is technically a worse shooter, because she takes more shots she will have a higher chance of making 6 shots in an average game!\n",
    "\n",
    "But wait a minute... what about a higher amount of shots, will player's A higher probability take a stronger effect then? What's the probability of making 9 shots a game for either player?"
   ]
  },
  {
   "cell_type": "code",
   "execution_count": 6,
   "id": "3e22807f",
   "metadata": {},
   "outputs": [
    {
     "name": "stdout",
     "output_type": "stream",
     "text": [
      " \n",
      "\n",
      " The probability of player A making 9 shots in an average game is 22.4% \n",
      "\n",
      "\n",
      " The probability of player B making 9 shots in an average game is 13.4% \n",
      "\n",
      "\n"
     ]
    }
   ],
   "source": [
    "#Let's find out!\n",
    "\n",
    "#Set number of shots\n",
    "k = 9\n",
    "\n",
    "#Set new combinations\n",
    "comb_A = sc.comb(n_A,k)\n",
    "comb_B = sc.comb(n_B,k)\n",
    "\n",
    "# Everything else remains the same\n",
    "answer_A = 100 * comb_A * (p_A**k) * ((1-p_A)**(n_A-k))\n",
    "answer_B = 100 * comb_B * (p_B**k) * ((1-p_B)**(n_B-k))\n",
    "\n",
    "#Print Answers\n",
    "print(' \\n')\n",
    "print(' The probability of player A making 9 shots in an average game is %1.1f%% ' %answer_A)\n",
    "print('\\n')\n",
    "print(' The probability of player B making 9 shots in an average game is %1.1f%% ' %answer_B)\n",
    "print('\\n')"
   ]
  },
  {
   "cell_type": "markdown",
   "id": "c32d2487",
   "metadata": {},
   "source": [
    " Now we see that player's A ability level gives better odds of making exactly 9 shots. We need to keep in mind that we are asking\n",
    " about the probability of making *exactly* those amount of shots. This is a different question than \" What's the probability that player A makes *at least* 9 shots?\".\n",
    "\n",
    "#### Now let's investigate the mean and standard deviation for the binomial distribution\n",
    "\n",
    " The mean of a binomial distribution is simply: $$\\mu=n*p$$\n",
    "\n",
    " This intuitively makes sense, the average number of successes should be the total trials multiplied by your average success rate.\n",
    "\n",
    " Similarly we can see that the standard deviation of a binomial is: $$\\sigma=\\sqrt{n*q*p}$$\n",
    "\n",
    " So now we can ask, whats the average number of shots each player will make in a game +/- a standard distribution?"
   ]
  },
  {
   "cell_type": "code",
   "execution_count": 8,
   "id": "90e872c2",
   "metadata": {},
   "outputs": [
    {
     "name": "stdout",
     "output_type": "stream",
     "text": [
      "\n",
      "\n",
      "Player A will make an average of 8 +/- 1 shots per game\n",
      "\n",
      "\n",
      "Player B will make an average of 7 +/- 2 shots per game\n",
      "\n",
      "\n",
      "NOTE: It's impossible to make a decimal of a shot so '%1.0f' was used to replace the float!\n"
     ]
    }
   ],
   "source": [
    "# Let's go ahead and plug in to the formulas.\n",
    "\n",
    "# Get the mean\n",
    "mu_A = n_A *p_A\n",
    "mu_B = n_B *p_B\n",
    "\n",
    "#Get the standard deviation\n",
    "sigma_A = ( n_A *p_A*(1-p_A) )**0.5\n",
    "sigma_B = ( n_B *p_B*(1-p_B) )**0.5\n",
    "\n",
    "# Now print results\n",
    "print('\\n')\n",
    "print('Player A will make an average of %1.0f +/- %1.0f shots per game' %(mu_A,sigma_A))\n",
    "print('\\n')\n",
    "print('Player B will make an average of %1.0f +/- %1.0f shots per game' %(mu_B,sigma_B))\n",
    "print('\\n')\n",
    "print(\"NOTE: It's impossible to make a decimal of a shot so '%1.0f' was used to replace the float!\")"
   ]
  },
  {
   "cell_type": "markdown",
   "id": "200d5841",
   "metadata": {},
   "source": [
    "### Let's see how to automatically make a binomial distribution."
   ]
  },
  {
   "cell_type": "code",
   "execution_count": 10,
   "id": "7345b366",
   "metadata": {},
   "outputs": [
    {
     "name": "stdout",
     "output_type": "stream",
     "text": [
      "7.92\n",
      "1.4891608375189027\n"
     ]
    }
   ],
   "source": [
    "from scipy.stats import binom\n",
    "\n",
    "# We can get stats: Mean('m'), variance('v'), skew('s'), and/or kurtosis('k')\n",
    "mean,var= binom.stats(n_A,p_A)\n",
    "\n",
    "print(mean)\n",
    "print(var**0.5)"
   ]
  },
  {
   "cell_type": "markdown",
   "id": "d4595475",
   "metadata": {},
   "source": [
    " Looks like it matches up with our manual methods. Note: we did not round in this case.\n",
    "\n",
    " #### We can also get the probability mass function:\n",
    "\n",
    " Let's try another example to see the full PMF (Probability Mass Function) and plotting it.\n",
    " \n",
    " Imagine you flip a fair coin. Your probability of getting a heads is p=0.5 (success in this example).\n",
    " \n",
    " So what does your probability mass function look like for 10 coin flips?"
   ]
  },
  {
   "cell_type": "code",
   "execution_count": 11,
   "id": "69b8aba3",
   "metadata": {},
   "outputs": [
    {
     "data": {
      "text/plain": [
       "array([0.00097656, 0.00976563, 0.04394531, 0.1171875 , 0.20507812,\n",
       "       0.24609375, 0.20507812, 0.1171875 , 0.04394531, 0.00976563,\n",
       "       0.00097656])"
      ]
     },
     "execution_count": 11,
     "metadata": {},
     "output_type": "execute_result"
    }
   ],
   "source": [
    "import numpy as np\n",
    "\n",
    "# Set up a new example, let's say n= 10 coin flips and p=0.5 for a fair coin.\n",
    "n=10\n",
    "p=0.5\n",
    "\n",
    "# Set up n success, remember indexing starts at 0, so use n+1\n",
    "x = range(n+1)\n",
    "\n",
    "# Now create the probability mass function\n",
    "Y = binom.pmf(x,n,p)\n",
    "\n",
    "#Show\n",
    "Y\n",
    "\n",
    "# Next we'll visualize the pmf by plotting it.\n"
   ]
  },
  {
   "cell_type": "markdown",
   "id": "26626d51",
   "metadata": {},
   "source": [
    "#### Finally, let's plot the binomial distribution to get the full picture."
   ]
  },
  {
   "cell_type": "code",
   "execution_count": 12,
   "id": "5e8fff22",
   "metadata": {},
   "outputs": [
    {
     "data": {
      "text/plain": [
       "Text(0, 0.5, 'Probability')"
      ]
     },
     "execution_count": 12,
     "metadata": {},
     "output_type": "execute_result"
    },
    {
     "data": {
      "image/png": "[encoded data removed]",
      "text/plain": [
       "<Figure size 640x480 with 1 Axes>"
      ]
     },
     "metadata": {},
     "output_type": "display_data"
    }
   ],
   "source": [
    "import matplotlib.pyplot as plt\n",
    "\n",
    "# For simple plots, matplotlib is fine, seaborn is unnecessary.\n",
    "\n",
    "# Now simply use plot\n",
    "plt.plot(x,Y,'o')\n",
    "\n",
    "#Title (use y=1.08 to raise the long title a little more above the plot)\n",
    "plt.title('Binomial Distribution PMF: 10 coin Flips, Odds of Success for Heads is p=0.5',y=1.08)\n",
    "\n",
    "#Axis Titles\n",
    "plt.xlabel('Number of Heads')\n",
    "plt.ylabel('Probability')"
   ]
  },
  {
   "cell_type": "markdown",
   "id": "182b9448",
   "metadata": {},
   "source": [
    " That's it for the review on Binomial Distributions. More info can be found at the following sources:\n",
    " \n",
    " 1.) http://en.wikipedia.org/wiki/Binomial_distribution\n",
    " \n",
    " 2.) http://stattrek.com/probability-distributions/binomial.aspx\n",
    " \n",
    " 3.) http://mathworld.wolfram.com/BinomialDistribution.html\n",
    "\n",
    " Thanks!"
   ]
  },
  {
   "cell_type": "code",
   "execution_count": null,
   "id": "bb24737e",
   "metadata": {},
   "outputs": [],
   "source": []
  }
 ],
 "metadata": {
  "kernelspec": {
   "display_name": "Python 3 (ipykernel)",
   "language": "python",
   "name": "python3"
  },
  "language_info": {
   "codemirror_mode": {
    "name": "ipython",
    "version": 3
   },
   "file_extension": ".py",
   "mimetype": "text/x-python",
   "name": "python",
   "nbconvert_exporter": "python",
   "pygments_lexer": "ipython3",
   "version": "3.9.13"
  }
 },
 "nbformat": 4,
 "nbformat_minor": 5
}
