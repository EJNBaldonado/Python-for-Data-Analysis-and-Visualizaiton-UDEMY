{
 "cells": [
  {
   "cell_type": "markdown",
   "id": "c7ec04b3",
   "metadata": {},
   "source": [
    "  Chi-Square\n",
    " \n",
    " In this Statistics Appendix Lecture, we'll go over the Chi-Square Distribution and the Chi-Square Test. \n",
    " \n",
    " *Note: Before viewing this lecture, see the Hypothesis Testing Notebook Lecture.*\n",
    " \n",
    " Let's start by introducing the general idea of observed and theoretical frequencies, then later we'll approach the idea of the Chi-Sqaure Distribution and its definition. After that we'll do a qcuik example with Scipy on using the Chi-Square Test.\n",
    " \n",
    " \n",
    "\n",
    " Supppose that you tossed a coin 100 times. Theoretically you would expect 50 tails and 50 heads, however it is pretty unlikely you get that result exactly. Then a question arises... how far off from you expected/theoretical frequency would you have to be in order to conclude that the observed result is statistically significant and is not just due to random variations.\n",
    " \n",
    " We can begin to think about this question by defining an example set of possible events. We'll call them Events 1 through *k*. Each of these events has an expected (theoretical) frequency and an observed frequency. We can display this as a table:\n",
    "\n",
    "<table>\n",
    " <tr>\n",
    " <th>Event</th>\n",
    " <th>Event 1</th>\n",
    " <th>Event 2</th>\n",
    " <th>Event 3</th>\n",
    " <th>...</th>\n",
    " <th>Event k</th>\n",
    " </tr>\n",
    " <tr>\n",
    " <td>Observed Frequency</td>\n",
    " <td>$$o_1$$</td>\n",
    " <td>$$o_2$$</td>\n",
    " <td>$$o_3$$</td>\n",
    " <td>...</td>\n",
    " <td>$$o_k$$</td>\n",
    " </tr>\n",
    " <tr>\n",
    " <td>Expected Frequency</td>\n",
    " <td>$$e_1$$</td>\n",
    " <td>$$e_2$$</td>\n",
    " <td>$$e_3$$</td>\n",
    " <td>...</td>\n",
    " <td>$$e_k$$</td>\n",
    " </tr>\n",
    " </table>\n",
    "\n",
    " Since we wanted to know whether observed frequencies differ significantly from the expected frequencies we'll have to define a term for a measure of discrepency.\n",
    " \n",
    " We'll define this measure as Chi-Square, which will be the sum of the squared difference between the observed and expected frequency divided by the expected frequency for all events. To show this more clearly, this is mathematically written as:\n",
    " $$ \\chi ^2 =  \\frac{(o_1 - e_1)^2}{e_1}+\\frac{(o_2 - e_2)^2}{e_2}+...+\\frac{(o_k - e_k)^2}{e_k} $$\n",
    " Which is the same as:\n",
    " $$\\chi ^2 = \\sum^{k}_{j=1} \\frac{(o_j - e_j)^2}{e_j} $$\n",
    "\n",
    " If the total frequency is N\n",
    "\n",
    " $$ \\sum o_j = \\sum e_j = N $$\n",
    "\n",
    " Then we could rewrite the Chi-Square Formula to be:\n",
    " $$ \\chi ^2 = \\sum \\frac{o_j ^2}{e_j ^2} - N$$\n",
    "\n",
    " We can now see that if the Chi Square value is equal to zero, then the observed and theoretical frequencies agree exactly. While if the Chi square value is greater than zero, they do not agree.\n",
    " \n",
    " The sampling distribution of Chi Square is approximated very closely by the *Chi-Square distribution*\n",
    "\n",
    " ### The Chi Square Distribution\n",
    " \n",
    " The Chi-Square Distribution is related to the standard normal distribution. If a random variable Z, then Z<sup>2</sup> has the Chi Square distribution with one degree of freedom. This idea is best presented graphically in a video. I've embedded a video below which goes over this an a way better than this static iPython Notebook format.\n",
    " \n",
    " Here is an excellent video explaining the basics of the Chi Square Distribution."
   ]
  },
  {
   "cell_type": "code",
   "execution_count": 1,
   "id": "c642ff59",
   "metadata": {},
   "outputs": [
    {
     "data": {
      "image/jpeg": "[encoded data removed]",
      "text/html": [
       "\n",
       "        <iframe\n",
       "            width=\"400\"\n",
       "            height=\"300\"\n",
       "            src=\"https://www.youtube.com/embed/hcDb12fsbBU\"\n",
       "            frameborder=\"0\"\n",
       "            allowfullscreen\n",
       "            \n",
       "        ></iframe>\n",
       "        "
      ],
      "text/plain": [
       "<IPython.lib.display.YouTubeVideo at 0x1c946717430>"
      ]
     },
     "execution_count": 1,
     "metadata": {},
     "output_type": "execute_result"
    }
   ],
   "source": [
    "from IPython.display import YouTubeVideo\n",
    "YouTubeVideo(\"hcDb12fsbBU\")"
   ]
  },
  {
   "cell_type": "markdown",
   "id": "f89eb3de",
   "metadata": {},
   "source": [
    "\n",
    " ### The Chi Square Test for Goodness of Fit\n",
    " \n",
    " We can now use the [Chi-Square test](http://stattrek.com/chi-square-test/goodness-of-fit.aspx?Tutorial=AP) can be used to determine how well a theoretical distribution fits an observed empirical distribution. \n",
    "\n",
    " Scipy will basically be constructing and looking up this table for us:"
   ]
  },
  {
   "cell_type": "markdown",
   "id": "8537addf",
   "metadata": {},
   "source": [
    "Let's go ahead and do an example problem. Say you are at a casino and are in charge of monitoring a [craps](http://en.wikipedia.org/wiki/Craps)(a dice game where two dice are rolled). You are suspcious that a player may have switched out the casino's dice for their own. How do we use the Chi-Square test to check whether or not this player is cheating?\n",
    " \n",
    " You will need some observations in order to begin. You begin to keep track of this player's roll outcomes.You record the next 500 rolls taking note of the sum of the dice roll result and the number of times it occurs.\n",
    " \n",
    " You record the following:\n",
    "\n",
    " <table>\n",
    " <td>Sum of Dice Roll</td>\n",
    " <td>2</td>\n",
    " <td>3</td>\n",
    " <td>4</td>\n",
    " <td>5</td>\n",
    " <td>6</td>\n",
    " <td>7</td>\n",
    " <td>8</td>\n",
    " <td>9</td>\n",
    " <td>10</td>\n",
    " <td>11</td>\n",
    " <td>12</td>\n",
    " <tr>\n",
    " <td>Number of Times Observed</td>\n",
    " <td>8</td>\n",
    " <td>32</td>\n",
    " <td>48</td>\n",
    " <td>59</td>\n",
    " <td>67</td>\n",
    " <td>84</td>\n",
    " <td>76</td>\n",
    " <td>57</td>\n",
    " <td>34</td>\n",
    " <td>28</td>\n",
    " <td>7</td>\n",
    " </tr>\n",
    " </table>\n",
    "\n",
    " Now we also know the espected frequency of these sums for a fair dice. That frequency distribution looks like this:\n",
    "\n",
    " <table>\n",
    " <td>Sum of Dice Roll</td>\n",
    " <td>2</td>\n",
    " <td>3</td>\n",
    " <td>4</td>\n",
    " <td>5</td>\n",
    " <td>6</td>\n",
    " <td>7</td>\n",
    " <td>8</td>\n",
    " <td>9</td>\n",
    " <td>10</td>\n",
    " <td>11</td>\n",
    " <td>12</td>\n",
    " </tr>\n",
    " <tr>\n",
    " <td>Expected Frequency</td>\n",
    " <td>1/36</td>\n",
    " <td>2/36</td>\n",
    " <td>3/36</td>\n",
    " <td>4/36</td>\n",
    " <td>5/36</td>\n",
    " <td>6/36</td>\n",
    " <td>5/36</td>\n",
    " <td>4/36</td>\n",
    " <td>3/36</td>\n",
    " <td>2/36</td>\n",
    " <td>1/36</td>\n",
    " </tr>\n",
    " </table>\n",
    "\n",
    " Now we can calculated the expected number of rolls by multiplying the expected frequency with the total sum of the rolls (500 rolls)."
   ]
  },
  {
   "cell_type": "code",
   "execution_count": 2,
   "id": "af9af39e",
   "metadata": {},
   "outputs": [
    {
     "data": {
      "text/plain": [
       "500"
      ]
     },
     "execution_count": 2,
     "metadata": {},
     "output_type": "execute_result"
    }
   ],
   "source": [
    "# Check sum of the rolls\n",
    "observed = [8,32,48,59,67,84,76,57,34,28,7]\n",
    "roll_sum = sum(observed)\n",
    "roll_sum\n"
   ]
  },
  {
   "cell_type": "code",
   "execution_count": 3,
   "id": "94dd41b3",
   "metadata": {},
   "outputs": [
    {
     "data": {
      "text/plain": [
       "[0.027777777777777776,\n",
       " 0.05555555555555555,\n",
       " 0.08333333333333333,\n",
       " 0.1111111111111111,\n",
       " 0.1388888888888889,\n",
       " 0.16666666666666666,\n",
       " 0.1388888888888889,\n",
       " 0.1111111111111111,\n",
       " 0.08333333333333333,\n",
       " 0.05555555555555555,\n",
       " 0.027777777777777776]"
      ]
     },
     "execution_count": 3,
     "metadata": {},
     "output_type": "execute_result"
    }
   ],
   "source": [
    "# The expected frequency\n",
    "freq = [1,2,3,4,5,6,5,4,3,2,1]\n",
    "\n",
    "# Note use of float for python 2.7\n",
    "possible_rolls = 1.0/36\n",
    "\n",
    "freq = [possible_rolls*dice for dice in freq]\n",
    "\n",
    "#Check\n",
    "freq"
   ]
  },
  {
   "cell_type": "markdown",
   "id": "25b58cc7",
   "metadata": {},
   "source": [
    "Excellent, now let's multiply our frequency by the sum to get the expected number of rolls for each frequency."
   ]
  },
  {
   "cell_type": "code",
   "execution_count": 4,
   "id": "fd72d1a7",
   "metadata": {},
   "outputs": [
    {
     "data": {
      "text/plain": [
       "[13.888888888888888,\n",
       " 27.777777777777775,\n",
       " 41.666666666666664,\n",
       " 55.55555555555555,\n",
       " 69.44444444444444,\n",
       " 83.33333333333333,\n",
       " 69.44444444444444,\n",
       " 55.55555555555555,\n",
       " 41.666666666666664,\n",
       " 27.777777777777775,\n",
       " 13.888888888888888]"
      ]
     },
     "execution_count": 4,
     "metadata": {},
     "output_type": "execute_result"
    }
   ],
   "source": [
    "expected = [roll_sum*f for f in freq]\n",
    "expected"
   ]
  },
  {
   "cell_type": "markdown",
   "id": "1979261e",
   "metadata": {},
   "source": [
    "We can now use Scipy to perform the [Chi Square Test](http://docs.scipy.org/doc/scipy-0.15.1/reference/generated/scipy.stats.chisquare.html) by using chisquare."
   ]
  },
  {
   "cell_type": "code",
   "execution_count": 6,
   "id": "7c7796d7",
   "metadata": {},
   "outputs": [
    {
     "name": "stdout",
     "output_type": "stream",
     "text": [
      "The chi-squared test statistic is 9.89\n",
      "The p-value for the test is 0.45\n"
     ]
    }
   ],
   "source": [
    "from scipy import stats\n",
    "\n",
    "chisq,p = stats.chisquare(observed,expected)\n",
    "\n",
    "print('The chi-squared test statistic is %.2f' %chisq)\n",
    "print('The p-value for the test is %.2f' %p)"
   ]
  },
  {
   "cell_type": "markdown",
   "id": "2173cf8e",
   "metadata": {},
   "source": [
    " stats.chisquare returns two values, the chi-squared test statistic and the p-value of the test.\n",
    " \n",
    " With such a high p-value, we have no reason to doubt the fairness of the dice.\n",
    " \n",
    " That's it for the Chi-Square Distirbution and Test!\n",
    " \n",
    " For more information, check out these links:\n",
    " \n",
    " 1. [Wikipedia](http://en.wikipedia.org/wiki/Chi-squared_test)\n",
    " \n",
    " 2. [Stat trek](http://stattrek.com/chi-square-test/independence.aspx)\n",
    " \n",
    " 3. [Khan Academy](https://www.khanacademy.org/math/probability/statistics-inferential/chi-square/v/pearson-s-chi-square-test-goodness-of-fit)"
   ]
  },
  {
   "cell_type": "code",
   "execution_count": null,
   "id": "6aa137c1",
   "metadata": {},
   "outputs": [],
   "source": []
  }
 ],
 "metadata": {
  "kernelspec": {
   "display_name": "Python 3 (ipykernel)",
   "language": "python",
   "name": "python3"
  },
  "language_info": {
   "codemirror_mode": {
    "name": "ipython",
    "version": 3
   },
   "file_extension": ".py",
   "mimetype": "text/x-python",
   "name": "python",
   "nbconvert_exporter": "python",
   "pygments_lexer": "ipython3",
   "version": "3.9.13"
  }
 },
 "nbformat": 4,
 "nbformat_minor": 5
}
