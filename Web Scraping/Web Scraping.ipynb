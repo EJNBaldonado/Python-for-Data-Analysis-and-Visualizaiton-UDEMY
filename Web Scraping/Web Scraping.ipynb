{
 "cells": [
  {
   "cell_type": "markdown",
   "id": "df53f141",
   "metadata": {},
   "source": [
    "# Web Scraping in Python\n",
    "\n",
    " In this appendix lecture we'll go over how to scrape information from the web using Python. \n",
    " \n",
    " ##### We'll go to a website, decide what information we want, see where and how it is stored, then scrape it and set it as a pandas DataFrame!\n",
    " \n",
    " #### Some things you should consider before web scraping a website:\n",
    " \n",
    " 1.) You should check a site's terms and conditions before you scrape them. \n",
    " \n",
    " 2.) Space out your requests so you don't overload the site's server, doing this could get you blocked.\n",
    " \n",
    " 3.) Scrapers break after time - web pages change their layout all the time, you'll more than likely have to rewrite your code. \n",
    " \n",
    " 4.) Web pages are usually inconsistent, more than likely you'll have to clean up the data after scraping it.\n",
    " \n",
    " 5.) Every web page and situation is different, you'll have to spend time configuring your scraper.\n",
    " \n",
    " #### To learn more about HTML I suggest theses two resources:\n",
    " \n",
    " [W3School](http://www.w3schools.com/html/)\n",
    " \n",
    " [Codecademy](http://www.codecademy.com/tracks/web)\n",
    " \n",
    " \n",
    " #### There are three modules we'll need in addition to python are:\n",
    " \n",
    " 1.) BeautifulSoup, which you can download by typing: *pip install beautifulsoup4* or *conda install beautifulsoup4* (for the Anaconda distrbution of Python) in your command prompt.\n",
    " \n",
    " 2.) lxml , which you can download by typing: *pip install lxml* or *conda install lxml* (for the Anaconda distrbution of Python) in your command prompt.\n",
    " \n",
    " 3.) requests,  which you can download by typing: *pip install requests* or *conda install requests* (for the Anaconda distrbution of Python) in your command prompt."
   ]
  },
  {
   "cell_type": "code",
   "execution_count": 1,
   "id": "53939fb6",
   "metadata": {},
   "outputs": [
    {
     "name": "stdout",
     "output_type": "stream",
     "text": [
      "Requirement already satisfied: beautifulsoup4 in c:\\users\\eugen\\anaconda3\\lib\\site-packages (4.11.1)\n",
      "Requirement already satisfied: soupsieve>1.2 in c:\\users\\eugen\\anaconda3\\lib\\site-packages (from beautifulsoup4) (2.3.1)\n",
      "Note: you may need to restart the kernel to use updated packages.\n"
     ]
    }
   ],
   "source": [
    "#pip install beautifulsoup4"
   ]
  },
  {
   "cell_type": "code",
   "execution_count": 2,
   "id": "2af08af3",
   "metadata": {},
   "outputs": [
    {
     "name": "stdout",
     "output_type": "stream",
     "text": [
      "Collecting Ixml\n",
      "  Downloading ixml-0.1.0.zip (17 kB)\n",
      "  Preparing metadata (setup.py): started\n",
      "  Preparing metadata (setup.py): finished with status 'done'\n",
      "Building wheels for collected packages: Ixml\n",
      "  Building wheel for Ixml (setup.py): started\n",
      "  Building wheel for Ixml (setup.py): finished with status 'done'\n",
      "  Created wheel for Ixml: filename=ixml-0.1.0-py3-none-any.whl size=10351 sha256=4c5abb691ea1368e8882c6f0c327b8492222d717c0b351a9f137b26ed1809105\n",
      "  Stored in directory: c:\\users\\eugen\\appdata\\local\\pip\\cache\\wheels\\10\\67\\87\\f28962fcd08fc0cbb1feeb7e956d6b0e2e16421ec2c0af174f\n",
      "Successfully built Ixml\n",
      "Installing collected packages: Ixml\n",
      "Successfully installed Ixml-0.1.0\n",
      "Note: you may need to restart the kernel to use updated packages.\n"
     ]
    }
   ],
   "source": [
    "#pip install Ixml"
   ]
  },
  {
   "cell_type": "code",
   "execution_count": 3,
   "id": "267bb9ce",
   "metadata": {},
   "outputs": [
    {
     "name": "stdout",
     "output_type": "stream",
     "text": [
      "Requirement already satisfied: requests in c:\\users\\eugen\\anaconda3\\lib\\site-packages (2.28.1)\n",
      "Requirement already satisfied: idna<4,>=2.5 in c:\\users\\eugen\\anaconda3\\lib\\site-packages (from requests) (3.3)\n",
      "Requirement already satisfied: urllib3<1.27,>=1.21.1 in c:\\users\\eugen\\anaconda3\\lib\\site-packages (from requests) (1.26.11)\n",
      "Requirement already satisfied: certifi>=2017.4.17 in c:\\users\\eugen\\anaconda3\\lib\\site-packages (from requests) (2022.9.14)\n",
      "Requirement already satisfied: charset-normalizer<3,>=2 in c:\\users\\eugen\\anaconda3\\lib\\site-packages (from requests) (2.0.4)\n",
      "Note: you may need to restart the kernel to use updated packages.\n"
     ]
    }
   ],
   "source": [
    "#pip install requests"
   ]
  },
  {
   "cell_type": "code",
   "execution_count": 4,
   "id": "fd90ef9f",
   "metadata": {},
   "outputs": [],
   "source": [
    "from bs4 import BeautifulSoup\n",
    "import requests\n",
    "import pandas as pd\n",
    "from pandas import Series, DataFrame"
   ]
  },
  {
   "cell_type": "markdown",
   "id": "92a1f432",
   "metadata": {},
   "source": [
    "For our quick web scraping tutorial, we'll look at some legislative reports from the University of California Web Page. Feel free to experiment with other webpages, but remember to be cautious and respectful in what you scrape and how often you do it. Always check the legality of a web scraping job.\n",
    "\n",
    "Let's go ahead and set the url."
   ]
  },
  {
   "cell_type": "code",
   "execution_count": 8,
   "id": "b2f048dc",
   "metadata": {},
   "outputs": [],
   "source": [
    "url = 'https://web.archive.org/web/20210921115415/https://www.ucop.edu/operating-budget/budgets-and-reports/legislative-reports/2013-14-legislative-session.html'"
   ]
  },
  {
   "cell_type": "markdown",
   "id": "455e4618",
   "metadata": {},
   "source": [
    "Now let's go ahead and set up requests to grab content form the url, and set it as a Beautiful Soup object."
   ]
  },
  {
   "cell_type": "code",
   "execution_count": 21,
   "id": "65ce5333",
   "metadata": {},
   "outputs": [],
   "source": [
    "# Request content from the web page\n",
    "result = requests.get(url)\n",
    "c = result.content\n",
    "\n",
    "# Set as beautifulsoup object\n",
    "soup = BeautifulSoup(c)"
   ]
  },
  {
   "cell_type": "markdown",
   "id": "dc2996bc",
   "metadata": {},
   "source": [
    "Now we'll use Beautiful Soup to search for the table we want to grab!"
   ]
  },
  {
   "cell_type": "code",
   "execution_count": 22,
   "id": "e0e2d1e4",
   "metadata": {},
   "outputs": [],
   "source": [
    "# Go to that section of interest (highlights the table)\n",
    "summary = soup.find('div', {'class': 'list-land', 'id':'content'})\n",
    "\n",
    "# Find the tables in HTML\n",
    "tables = summary.find_all('table')"
   ]
  },
  {
   "cell_type": "markdown",
   "id": "c369d01f",
   "metadata": {},
   "source": [
    "Now we need to use Beautiful Soup to find the table entries. A 'td' tag  defines a standard cell in an HTML table. The 'tr' tag defines a row in an HTML table.\n",
    " \n",
    " We'll parse through our tables object and try to find each cell using the findALL('td') method.\n",
    " \n",
    " There are tons of options to use with findALL in beautiful soup. You can read about them [here](http://www.crummy.com/software/BeautifulSoup/bs4/doc/#find-all)."
   ]
  },
  {
   "cell_type": "code",
   "execution_count": 23,
   "id": "5f8b0239",
   "metadata": {},
   "outputs": [
    {
     "name": "stdout",
     "output_type": "stream",
     "text": [
      "1\n",
      "08/01/13\n",
      "2013-14 (EDU 92495) Proposed Capital Outlay Projects (2013-14 only) (pdf)\n",
      "2\n",
      "09/01/13\n",
      "2014-15  (EDU 92495) Proposed Capital Outlay Projects (pdf)\n",
      "3\n",
      "11/01/13\n",
      "Utilization of Classroom and Teaching Laboratories (pdf)\n",
      "4\n",
      "11/01/13\n",
      "Instruction and Research Space Summary & Analysis (pdf)\n",
      "5\n",
      "11/15/13\n",
      "Statewide Energy Partnership Program (pdf)\n",
      "6\n",
      "11/30/13\n",
      "2013-23 Capital Financial Plan (pdf)\n",
      "7\n",
      "11/30/13\n",
      "Projects Savings Funded from Capital Outlay Bond Funds (pdf)\n",
      "8\n",
      "12/01/13\n",
      "Streamlined Capital Projects Funded from Capital (pdf)\n",
      "9\n",
      "01/01/14\n",
      "Annual General Obligation Bonds Accountability (pdf)\n",
      "10\n",
      "01/01/14\n",
      "Small Business Utilization (pdf)\n",
      "11\n",
      "01/01/14\n",
      "Institutional Financial Aid Programs - Preliminary report (pdf)\n",
      "12\n",
      "01/10/14\n",
      "Summer Enrollment (pdf)\n",
      "13\n",
      "01/15/14\n",
      "Contracting Out for Services at Newly Developed Facilities (pdf)\n",
      "14\n",
      "03/01/14\n",
      "Performance Measures (pdf)\n",
      "15\n",
      "03/01/14\n",
      "Entry Level Writing Requirement (pdf)\n",
      "16\n",
      "03/31/14\n",
      "Annual Report on Student Financial Support (pdf)\n",
      "17\n",
      "04/01/14\n",
      "Unique Statewide Pupil Identifier (pdf)\n",
      "18\n",
      "04/01/14\n",
      "Riverside School of Medicine (pdf)\n",
      "19\n",
      "04/01/14\n",
      "SAPEP Funds and Outcomes - N/A\n",
      "20\n",
      "05/15/14\n",
      "Receipt and Use of Lottery Funds (pdf)\n",
      "21\n",
      "07/01/14\n",
      "Cogeneration and Energy Consv Major Capital Projects (pdf)\n",
      "\n",
      "\n",
      "\n",
      "\n",
      "\n",
      "\n",
      " \n",
      "Future Reports\n",
      "\n",
      "\n",
      "24\n",
      "12-\n",
      "Breast Cancer Research Fund\n",
      "25\n",
      "12-31-15\n",
      "Cigarette and Tobacco Products Surtax Research Program\n",
      "26\n",
      "01-01-16\n",
      "Best Value Program\n",
      "27\n",
      "01-01-16\n",
      "California Subject Matter Programs\n",
      "28\n",
      "04-01-16\n",
      "COSMOS Program Outcomes\n"
     ]
    }
   ],
   "source": [
    "# Set up empty data list\n",
    "data = []\n",
    "# Set rows equal to first indexed object in tables with a row\n",
    "rows = tables[0].findAll('tr')\n",
    "\n",
    "# Now grab every HTML cell in every row\n",
    "for tr in rows:\n",
    "    cols = tr.findAll('td')\n",
    "        # Check to see if text is in the row\n",
    "    for td in cols:\n",
    "        text = td.find(text=True)\n",
    "        print(text)\n",
    "        data.append(text)"
   ]
  },
  {
   "cell_type": "markdown",
   "id": "7a9e23e3",
   "metadata": {},
   "source": [
    "Let's see what the data list looks like!"
   ]
  },
  {
   "cell_type": "code",
   "execution_count": 24,
   "id": "2159490d",
   "metadata": {},
   "outputs": [
    {
     "data": {
      "text/plain": [
       "['1',\n",
       " '08/01/13',\n",
       " '2013-14 (EDU 92495) Proposed Capital Outlay Projects (2013-14 only) (pdf)',\n",
       " '2',\n",
       " '09/01/13',\n",
       " '2014-15\\xa0 (EDU 92495) Proposed Capital Outlay Projects (pdf)',\n",
       " '3',\n",
       " '11/01/13',\n",
       " 'Utilization of Classroom and Teaching Laboratories (pdf)',\n",
       " '4',\n",
       " '11/01/13',\n",
       " 'Instruction and Research Space Summary & Analysis (pdf)',\n",
       " '5',\n",
       " '11/15/13',\n",
       " 'Statewide Energy Partnership Program (pdf)',\n",
       " '6',\n",
       " '11/30/13',\n",
       " '2013-23 Capital Financial Plan (pdf)',\n",
       " '7',\n",
       " '11/30/13',\n",
       " 'Projects Savings Funded from Capital Outlay Bond Funds (pdf)',\n",
       " '8',\n",
       " '12/01/13',\n",
       " 'Streamlined Capital Projects Funded from Capital (pdf)',\n",
       " '9',\n",
       " '01/01/14',\n",
       " 'Annual General Obligation Bonds Accountability (pdf)',\n",
       " '10',\n",
       " '01/01/14',\n",
       " 'Small Business Utilization (pdf)',\n",
       " '11',\n",
       " '01/01/14',\n",
       " 'Institutional Financial Aid Programs - Preliminary report (pdf)',\n",
       " '12',\n",
       " '01/10/14',\n",
       " 'Summer Enrollment (pdf)',\n",
       " '13',\n",
       " '01/15/14',\n",
       " 'Contracting Out for Services at Newly Developed Facilities (pdf)',\n",
       " '14',\n",
       " '03/01/14',\n",
       " 'Performance Measures (pdf)',\n",
       " '15',\n",
       " '03/01/14',\n",
       " 'Entry Level Writing Requirement (pdf)',\n",
       " '16',\n",
       " '03/31/14',\n",
       " 'Annual Report on Student\\xa0Financial Support (pdf)',\n",
       " '17',\n",
       " '04/01/14',\n",
       " 'Unique Statewide Pupil Identifier (pdf)',\n",
       " '18',\n",
       " '04/01/14',\n",
       " 'Riverside School of Medicine (pdf)',\n",
       " '19',\n",
       " '04/01/14',\n",
       " 'SAPEP Funds and Outcomes - N/A',\n",
       " '20',\n",
       " '05/15/14',\n",
       " 'Receipt and Use of Lottery Funds (pdf)',\n",
       " '21',\n",
       " '07/01/14',\n",
       " 'Cogeneration and Energy Consv Major Capital Projects (pdf)',\n",
       " '\\n',\n",
       " '\\n',\n",
       " '\\n',\n",
       " '\\xa0',\n",
       " 'Future Reports',\n",
       " '\\n',\n",
       " '24',\n",
       " '12-',\n",
       " 'Breast Cancer Research Fund',\n",
       " '25',\n",
       " '12-31-15',\n",
       " 'Cigarette and Tobacco Products Surtax Research Program',\n",
       " '26',\n",
       " '01-01-16',\n",
       " 'Best Value Program',\n",
       " '27',\n",
       " '01-01-16',\n",
       " 'California Subject Matter Programs',\n",
       " '28',\n",
       " '04-01-16',\n",
       " 'COSMOS Program Outcomes']"
      ]
     },
     "execution_count": 24,
     "metadata": {},
     "output_type": "execute_result"
    }
   ],
   "source": [
    "data"
   ]
  },
  {
   "cell_type": "markdown",
   "id": "5ba4165a",
   "metadata": {},
   "source": [
    "Now we'll use a for loop to go through the list and grab only the cells that contain a pdf file in them, we'll also need to keep in track of the index to set up the date of the report"
   ]
  },
  {
   "cell_type": "code",
   "execution_count": 25,
   "id": "0efe6734",
   "metadata": {},
   "outputs": [],
   "source": [
    "# Set up empty lists\n",
    "reports = []\n",
    "date = []\n",
    "# Set index counter\n",
    "index = 0\n",
    "\n",
    "# Go find the pdf cells\n",
    "for item in data:\n",
    "    if 'pdf' in item:\n",
    "        # Add the date and the reports\n",
    "        date.append(data[index-1])\n",
    "        \n",
    "        # Get rid of \\xa0 (unicode error)\n",
    "        reports.append(item.replace(u'x\\a0', u' '))\n",
    "        \n",
    "    index += 1"
   ]
  },
  {
   "cell_type": "markdown",
   "id": "2fc4ae10",
   "metadata": {},
   "source": [
    " You'll notice a line to take care of '\\xa0 ' This is due to a unicode error that occurs if you don't do this. Web pages can be messy and inconsistent and it is very likely you'll have to do some research to take care of problems like these.\n",
    " \n",
    " Here's the link I used to solve this particular issue: [StackOverflow Page](http://stackoverflow.com/questions/10993612/python-removing-xa0-from-string)\n",
    "\n",
    " Now all that is left is to organize our data into a pandas DataFrame!"
   ]
  },
  {
   "cell_type": "code",
   "execution_count": 26,
   "id": "143f6d98",
   "metadata": {},
   "outputs": [],
   "source": [
    "# Set up date and reports as a series\n",
    "date = Series(date)\n",
    "reports = Series(reports)"
   ]
  },
  {
   "cell_type": "code",
   "execution_count": 27,
   "id": "77597c03",
   "metadata": {},
   "outputs": [],
   "source": [
    "# Concatenate into a DataFrame\n",
    "legislative_df = pd.concat([date, reports], axis=1)"
   ]
  },
  {
   "cell_type": "code",
   "execution_count": 28,
   "id": "e379b6a5",
   "metadata": {},
   "outputs": [],
   "source": [
    "# Set up the columns\n",
    "legislative_df.columns = ['Date', 'Report']"
   ]
  },
  {
   "cell_type": "code",
   "execution_count": 29,
   "id": "e5c48b1b",
   "metadata": {},
   "outputs": [
    {
     "data": {
      "text/html": [
       "<div>\n",
       "<style scoped>\n",
       "    .dataframe tbody tr th:only-of-type {\n",
       "        vertical-align: middle;\n",
       "    }\n",
       "\n",
       "    .dataframe tbody tr th {\n",
       "        vertical-align: top;\n",
       "    }\n",
       "\n",
       "    .dataframe thead th {\n",
       "        text-align: right;\n",
       "    }\n",
       "</style>\n",
       "<table border=\"1\" class=\"dataframe\">\n",
       "  <thead>\n",
       "    <tr style=\"text-align: right;\">\n",
       "      <th></th>\n",
       "      <th>Date</th>\n",
       "      <th>Report</th>\n",
       "    </tr>\n",
       "  </thead>\n",
       "  <tbody>\n",
       "    <tr>\n",
       "      <th>0</th>\n",
       "      <td>08/01/13</td>\n",
       "      <td>2013-14 (EDU 92495) Proposed Capital Outlay Pr...</td>\n",
       "    </tr>\n",
       "    <tr>\n",
       "      <th>1</th>\n",
       "      <td>09/01/13</td>\n",
       "      <td>2014-15  (EDU 92495) Proposed Capital Outlay P...</td>\n",
       "    </tr>\n",
       "    <tr>\n",
       "      <th>2</th>\n",
       "      <td>11/01/13</td>\n",
       "      <td>Utilization of Classroom and Teaching Laborato...</td>\n",
       "    </tr>\n",
       "    <tr>\n",
       "      <th>3</th>\n",
       "      <td>11/01/13</td>\n",
       "      <td>Instruction and Research Space Summary &amp; Analy...</td>\n",
       "    </tr>\n",
       "    <tr>\n",
       "      <th>4</th>\n",
       "      <td>11/15/13</td>\n",
       "      <td>Statewide Energy Partnership Program (pdf)</td>\n",
       "    </tr>\n",
       "    <tr>\n",
       "      <th>5</th>\n",
       "      <td>11/30/13</td>\n",
       "      <td>2013-23 Capital Financial Plan (pdf)</td>\n",
       "    </tr>\n",
       "    <tr>\n",
       "      <th>6</th>\n",
       "      <td>11/30/13</td>\n",
       "      <td>Projects Savings Funded from Capital Outlay Bo...</td>\n",
       "    </tr>\n",
       "    <tr>\n",
       "      <th>7</th>\n",
       "      <td>12/01/13</td>\n",
       "      <td>Streamlined Capital Projects Funded from Capit...</td>\n",
       "    </tr>\n",
       "    <tr>\n",
       "      <th>8</th>\n",
       "      <td>01/01/14</td>\n",
       "      <td>Annual General Obligation Bonds Accountability...</td>\n",
       "    </tr>\n",
       "    <tr>\n",
       "      <th>9</th>\n",
       "      <td>01/01/14</td>\n",
       "      <td>Small Business Utilization (pdf)</td>\n",
       "    </tr>\n",
       "    <tr>\n",
       "      <th>10</th>\n",
       "      <td>01/01/14</td>\n",
       "      <td>Institutional Financial Aid Programs - Prelimi...</td>\n",
       "    </tr>\n",
       "    <tr>\n",
       "      <th>11</th>\n",
       "      <td>01/10/14</td>\n",
       "      <td>Summer Enrollment (pdf)</td>\n",
       "    </tr>\n",
       "    <tr>\n",
       "      <th>12</th>\n",
       "      <td>01/15/14</td>\n",
       "      <td>Contracting Out for Services at Newly Develope...</td>\n",
       "    </tr>\n",
       "    <tr>\n",
       "      <th>13</th>\n",
       "      <td>03/01/14</td>\n",
       "      <td>Performance Measures (pdf)</td>\n",
       "    </tr>\n",
       "    <tr>\n",
       "      <th>14</th>\n",
       "      <td>03/01/14</td>\n",
       "      <td>Entry Level Writing Requirement (pdf)</td>\n",
       "    </tr>\n",
       "    <tr>\n",
       "      <th>15</th>\n",
       "      <td>03/31/14</td>\n",
       "      <td>Annual Report on Student Financial Support (pdf)</td>\n",
       "    </tr>\n",
       "    <tr>\n",
       "      <th>16</th>\n",
       "      <td>04/01/14</td>\n",
       "      <td>Unique Statewide Pupil Identifier (pdf)</td>\n",
       "    </tr>\n",
       "    <tr>\n",
       "      <th>17</th>\n",
       "      <td>04/01/14</td>\n",
       "      <td>Riverside School of Medicine (pdf)</td>\n",
       "    </tr>\n",
       "    <tr>\n",
       "      <th>18</th>\n",
       "      <td>05/15/14</td>\n",
       "      <td>Receipt and Use of Lottery Funds (pdf)</td>\n",
       "    </tr>\n",
       "    <tr>\n",
       "      <th>19</th>\n",
       "      <td>07/01/14</td>\n",
       "      <td>Cogeneration and Energy Consv Major Capital Pr...</td>\n",
       "    </tr>\n",
       "  </tbody>\n",
       "</table>\n",
       "</div>"
      ],
      "text/plain": [
       "        Date                                             Report\n",
       "0   08/01/13  2013-14 (EDU 92495) Proposed Capital Outlay Pr...\n",
       "1   09/01/13  2014-15  (EDU 92495) Proposed Capital Outlay P...\n",
       "2   11/01/13  Utilization of Classroom and Teaching Laborato...\n",
       "3   11/01/13  Instruction and Research Space Summary & Analy...\n",
       "4   11/15/13         Statewide Energy Partnership Program (pdf)\n",
       "5   11/30/13               2013-23 Capital Financial Plan (pdf)\n",
       "6   11/30/13  Projects Savings Funded from Capital Outlay Bo...\n",
       "7   12/01/13  Streamlined Capital Projects Funded from Capit...\n",
       "8   01/01/14  Annual General Obligation Bonds Accountability...\n",
       "9   01/01/14                   Small Business Utilization (pdf)\n",
       "10  01/01/14  Institutional Financial Aid Programs - Prelimi...\n",
       "11  01/10/14                            Summer Enrollment (pdf)\n",
       "12  01/15/14  Contracting Out for Services at Newly Develope...\n",
       "13  03/01/14                         Performance Measures (pdf)\n",
       "14  03/01/14              Entry Level Writing Requirement (pdf)\n",
       "15  03/31/14   Annual Report on Student Financial Support (pdf)\n",
       "16  04/01/14            Unique Statewide Pupil Identifier (pdf)\n",
       "17  04/01/14                 Riverside School of Medicine (pdf)\n",
       "18  05/15/14             Receipt and Use of Lottery Funds (pdf)\n",
       "19  07/01/14  Cogeneration and Energy Consv Major Capital Pr..."
      ]
     },
     "execution_count": 29,
     "metadata": {},
     "output_type": "execute_result"
    }
   ],
   "source": [
    "# Show the finished DataFrame\n",
    "legislative_df"
   ]
  },
  {
   "cell_type": "markdown",
   "id": "2ce8f4f9",
   "metadata": {},
   "source": [
    " There are other less intense options for web scraping:\n",
    " \n",
    " Check out these two companies:\n",
    " \n",
    " https://import.io/\n",
    " \n",
    " https://www.kimonolabs.com/\n",
    " \n",
    "\n",
    " ## Good Job!"
   ]
  },
  {
   "cell_type": "code",
   "execution_count": null,
   "id": "e1ac1050",
   "metadata": {},
   "outputs": [],
   "source": []
  }
 ],
 "metadata": {
  "kernelspec": {
   "display_name": "Python 3 (ipykernel)",
   "language": "python",
   "name": "python3"
  },
  "language_info": {
   "codemirror_mode": {
    "name": "ipython",
    "version": 3
   },
   "file_extension": ".py",
   "mimetype": "text/x-python",
   "name": "python",
   "nbconvert_exporter": "python",
   "pygments_lexer": "ipython3",
   "version": "3.9.13"
  }
 },
 "nbformat": 4,
 "nbformat_minor": 5
}
